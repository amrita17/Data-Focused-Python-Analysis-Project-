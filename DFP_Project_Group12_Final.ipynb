{
 "cells": [
  {
   "cell_type": "markdown",
   "metadata": {},
   "source": [
    "# Analyse the historical food prices and nutrient information of the vegetables to help farmers in better decision making"
   ]
  },
  {
   "cell_type": "markdown",
   "metadata": {},
   "source": [
    "[1. Introduction and Project Background](#intro)\n",
    "\n",
    "[2. Explored Data Sources](#explored_ds)\n",
    "\n",
    "[3. Loading Data](#load_begin)\n",
    "\n",
    "   [3.1 Loading USDA historical prices data](#hp_load)\n",
    " \n",
    "   [3.2 Web scrape the food price index data](#ws_load)\n",
    " \n",
    "   [3.3 Loading and Cleaning the Data from API](#api_load)\n",
    " \n",
    "[4.Analysis of Data ](#4)\n",
    " \n",
    "   [4.1 Nutrients content in the vegetables](#4.1)\n",
    " \n",
    "   [4.2 Plot the nutrient content for each type of vegetable](#4.2)\n",
    " \n",
    "   [4.3 Plot the Production quantity for Escarole & Endive Vegetable](#4.3)\n",
    " \n",
    "   [4.4 Plot the Average Price comparison for Collard Greens vs Kale vs Spinach vs Mustard Greens](#4.4)\n",
    " \n",
    "   [4.5 Plot the Production comparison for Collard Greens vs Kale vs Spinach vs Mustard Greens](#4.5)\n",
    " \n",
    "   [4.6 Plot the Production vs Import vs Average Price of Asparagus](#4.6)\n",
    " \n",
    "   [4.7 Plot the U.S. fresh market vegetables supply utilization](#4.7)\n",
    " \n",
    "   [4.8 Plot the Production vs Import of Cucumber from 1970 to 2017](#4.8)\n",
    " \n",
    "   [4.10 Analyze the Market price, production and imports of Tomatoes](#4.10)\n",
    " \n",
    "   [4.11 Plot the Market prices of vegetables for year](#4.11)\n",
    " \n",
    "   [4.11.1 Market price for vegetables](#4.11.1)\n",
    " \n",
    "   [4.11.2 Deep dive from above plot -Analysis of Asparagus - Why is it consistently costlier](#4.11.1)\n",
    "  \n",
    "   [4.12 Total Imports Per Vegetables](#4.12)\n",
    " \n",
    "   [4.13 Plot the Price Index on Total Imports per Vegetable](#4.13)\n",
    " \n",
    "   [4.14 Plot the Price Index of Vegetables when production is greter than Imports](#4.14)\n",
    " \n",
    "   [4.15 Plot the Price Index of Vegetables when Protein content is greter than Sugars](#4.15)"
   ]
  },
  {
   "cell_type": "markdown",
   "metadata": {},
   "source": [
    "<a id='intro'></a>\n",
    "## 1. Introduction and Project Background \n",
    "This agricultural project provides a study on the yield of Vegetables over the years in the United States. \n",
    "The project also provides the crop’s price differentiation over the years and the per capita availability of the produce.\n",
    "The goal is to provide a comprehensive and easy to use analysis for the farmers to decide on crop production and entice new generation of crop producers.\n",
    "\n",
    "The reason to take up this project is that we've huge database available for product prices, but it is usually in flat file format which is not readily interpretable and very difficult to visualize and analyse.\n",
    "At the same time, since this project is taken as an academic study, we wanted to incorporate the diverse sources of data and to be able to combine it and analyse it. So we decided to analyse - imports/exports and historical price data, market price index and nutrient information of the vegetables.\n",
    "\n",
    "So we aim to take this project as a learning and exploratory data analysis project to uncover interesting trends in US agricultural market by making use of the skills learned in this class."
   ]
  },
  {
   "cell_type": "markdown",
   "metadata": {},
   "source": [
    "<a id='explored_ds'></a>\n",
    "## 2. Explored Data Sources and motivation behind picking them:\n",
    "We're analysing the following three kinds of data-\n",
    "\n",
    "#### a. Historical prices and imports/exports data- \n",
    "This data is taken from United States department of Agriculture(USDA) website and it is in the flat file format. This is downloaded directly from the USDA website using code. It has total 32 sheets one for each vegetable. It has data related to production, imports/exports, wholesale prices, per capita availability for each veegtable from year 1970 to year 2017. Since so much valuable data is easily available at USDA we decided to make use of this data. We hoped that analysing the historical prices could reveal interesting market trends and help us understand the market dynamics of the agircultural market in USA better. \n",
    "\n",
    "#### b. Agricultural Market price index-\n",
    "Monthly agricultural market price index from year 2014 to 2018 is extracted using webscraping from a price index website. Such market price index data for long term period is usually available in csv format or in downloadable pdfs. But to diversify the scope of this project we decided to webscrape the data from a website. However, this data is available only from the year 2014 to 2018, compared to our historical prices data which is available from 1970 to 2017. So we're limited in the usage of this data for long term price index analysis. Thus, the analysis using this data is done just for the years 2014 to 2017. \n",
    "\n",
    "#### c. Nutrient Information of vegetables - \n",
    "The Nutrient information is an important aspect which is usually ignored in the decision making by the farmers. Recently we've seen huge demand for healthy foods among people. Most common examples are the increase in production and consumption of Chia seeds, flax seeds, Quinoa, Kale etc. Thus, it is important that farmers are informed of the nutrient information of each vegetable and they can include this information as well in their decision making.  \n",
    "\n",
    "The data for nutrient information is extracted from and API made available by USDA. The information extracted is for 8 nutrients for each vegetable. The nutrients include - protein, carbohydrates, fats, Glucose Fructose, Sugars, Energy and Fiber. \n",
    "\n"
   ]
  },
  {
   "cell_type": "code",
   "execution_count": 105,
   "metadata": {
    "collapsed": true
   },
   "outputs": [],
   "source": [
    "# section for imports\n",
    "import plotly\n",
    "import requests\n",
    "from bs4 import BeautifulSoup as bs\n",
    "import numpy as np\n",
    "import pandas as pd\n",
    "import matplotlib.pyplot as plt\n",
    "from datetime import datetime\n",
    "from collections import defaultdict\n",
    "from tabulate import tabulate"
   ]
  },
  {
   "cell_type": "markdown",
   "metadata": {},
   "source": [
    "The below table summarizes the incoming data, its format, and number of rows and columns and its description for easy understanding."
   ]
  },
  {
   "cell_type": "code",
   "execution_count": 106,
   "metadata": {},
   "outputs": [
    {
     "name": "stdout",
     "output_type": "stream",
     "text": [
      "| Info             | Historical Price Data                | Price Index Data                 | Nutrient Info                  |\n",
      "|------------------+--------------------------------------+----------------------------------+--------------------------------|\n",
      "| Type             | FlatFile                             | Website                          | API                            |\n",
      "| Incoming format  | 32 sheets in one csv                 | HTML Table rows and columns      | json data                      |\n",
      "| # of rows        | 965                                  | 49                               | 150                            |\n",
      "| # of columns     | 10                                   | 2                                | 9                              |\n",
      "| Data description | Import/export, prices and production | Months with year and Price index | 8 nutrients for each vegetable |\n"
     ]
    }
   ],
   "source": [
    "print(tabulate([['Type', 'FlatFile', 'Website', 'API'],\n",
    "                ['Incoming format', '32 sheets in one csv', 'HTML Table rows and columns', 'json data'],\n",
    "                ['# of rows', 965, 49, 150 ], ['# of columns', 10, 2, 9],\n",
    "               ['Data description', 'Import/export, prices and production',\n",
    "                'Months with year and Price index', '8 nutrients for each vegetable']], \n",
    "               headers=['Info', 'Historical Price Data', 'Price Index Data', 'Nutrient Info'], tablefmt='orgtbl'))"
   ]
  },
  {
   "cell_type": "markdown",
   "metadata": {},
   "source": [
    "<a id='load_begin'></a> \n",
    "##  3. Data Load and Cleaning"
   ]
  },
  {
   "cell_type": "markdown",
   "metadata": {},
   "source": [
    "<a id='hp_load'></a>\n",
    "   ## 3.1 Read Fresh Vegetables data from USDA website into csv and then load into data frame"
   ]
  },
  {
   "cell_type": "markdown",
   "metadata": {},
   "source": [
    "#### Data load- \n",
    "The data is downloaded directly from USDA website and all the cleaning and processing of the data is done through Python code.\n",
    "##### Step 1 -  Download data\n",
    "Download the data from USDA website.\n",
    "##### Step 2 -  Take data from each sheet\n",
    "The data is in 32 sheets.The first and last sheet are not included in analysis since it has summary data which we're not analysing as part of this project. It was difficult to open each sheet and load it by the individual because it was not feasible and increased the lines of code as well. So it was decided to load the sheets using its sheet number. pandas read_excel provides this functionality. By looping through each sheet number, now the data can be extracted easily. This also makes the code reusable since this code can be used to load other flat files without worrying about the sheet names.\n",
    "##### Step 3 - Select only 9 columns\n",
    "Select only that data which has 9 columns. One of the challenges of picking the data from such sources is that the data format is not consistent. Most of the data for vegetables was coming in 9 columns. But some of the vegetables had additional columns and these additional columns were not at the end, rather at column number 5 or column 6. This was making data loading part very difficult. After lot of trials, it was decided to get only those vegetables which have 9 columns because merging 30 sheets, all in different format was unmanageable.\n",
    "\n",
    "##### Step 4 - Extract vegetable  name\n",
    "Extract name of the vegetable. Since download of vegetable data is automated and being merged into single dataframe, so vegetable name is extracted and added as a column in dataframe.\n",
    "\n",
    "##### Step 5 - Remove extra rows\n",
    "USDA come with lot of additional rows in the beginning and in the end. This data when loaded directly into the dataframe was creating issues, since it has lot of null and non-numeric values were coming in the numeric columns. Also not all vegetables had data for all the years between 1971 and 2017. So we have to make sure that we extract only those rows which are had prices data. \n",
    "To overcome this problem, only the rows between the row 4 and the row for year 2017 data is extracted. \n",
    "\n",
    "##### Step 6 : Load the data in dataframe\n",
    "Load the total produce information into a separate dataframe. This is the first sheet of the downloaded csv. Since this has total information for vegetables categore, hence it cannot be concatenated with the individual vegetables dataframe."
   ]
  },
  {
   "cell_type": "code",
   "execution_count": 107,
   "metadata": {
    "collapsed": true
   },
   "outputs": [],
   "source": [
    "# download csv from USDA website\n",
    "url = 'https://www.ers.usda.gov/webdocs/DataFiles/54529/SandU%20Fresh.xlsx?v=43189'\n",
    "r = requests.get(url)\n",
    "with open(\"fresh.csv\",'wb') as f:\n",
    "    f.write(r.content)"
   ]
  },
  {
   "cell_type": "code",
   "execution_count": 108,
   "metadata": {},
   "outputs": [],
   "source": [
    "# Load fresh.csv into dataframe\n",
    "# fresh.csv has 32 sheets for 32 vegetables. Hence loading all the the sheets into one single dataframe\n",
    "column_names = ['Vegetable','Year','Production','Imports','Supply','Exports',\n",
    "                'Domestic_Availability','Per_Capita_Availability','Current_Dollars','Constant_2009_Dollars']\n",
    "fresh_df = pd.DataFrame(columns=column_names)\n",
    "for i in range(1,31):\n",
    "#     temp_df= pd.read_excel(\"fresh.csv\", sheetname=i) # use this if pandas version is old. So it doesn't accept sheet_name\n",
    "    temp_df= pd.read_excel(\"fresh.csv\", sheet_name=i)\n",
    "    if temp_df.shape[1] == 9: # to remove those sheets which have more than 9 columns\n",
    "        # Get the vegetable name and insert as the first column of the dataframe\n",
    "        col1 =temp_df.columns[0]\n",
    "        beg_pos = 15\n",
    "        end_pos = col1.find(':')\n",
    "        veg_name = col1[beg_pos:end_pos]\n",
    "        veg_name = veg_name.replace(', all uses','')\n",
    "        veg_name = veg_name.replace('fresh ','')\n",
    "        temp_df.insert(loc=0, column='Vegetable', value=veg_name) \n",
    "        \n",
    "        # rename the columns \n",
    "        temp_df.columns = column_names\n",
    "        # extract the row number till year 2017 data to remove extra rows at the end\n",
    "        last_row_idx_str = temp_df[temp_df['Year'].str.contains('2016/17', na=False )].index\n",
    "        last_row_idx = temp_df[temp_df['Year'] ==  2017].index\n",
    "        \n",
    "        # concatenate the DF\n",
    "        if len(last_row_idx_str) > 0: \n",
    "            fresh_df = pd.concat([fresh_df,temp_df.iloc[4:last_row_idx_str[0]+1]], \n",
    "                             ignore_index  = True) \n",
    "        elif len(last_row_idx) > 0:\n",
    "            fresh_df = pd.concat([fresh_df,temp_df.iloc[4:last_row_idx[0]+1]], \n",
    "                             ignore_index  = True) "
   ]
  },
  {
   "cell_type": "markdown",
   "metadata": {},
   "source": [
    "The above read_excel command was not working for pandas 0.20.3 version. However, it is working fine on pandas 0.22.0 so kept the command as it is. \n",
    "If the command pd.read_excel(\"fresh.csv\", sheet_name=i) errors out then temp_df= pd.read_excel(\"fresh.csv\", sheetname=i) will work (there is a difference in the attribute name - sheet_name <---> sheetname). "
   ]
  },
  {
   "cell_type": "code",
   "execution_count": 109,
   "metadata": {
    "collapsed": true
   },
   "outputs": [],
   "source": [
    "# replace the invalid values with zero\n",
    "fresh_df = fresh_df.replace('            --', 0)\n",
    "fresh_df = fresh_df.replace('             --', 0)"
   ]
  },
  {
   "cell_type": "code",
   "execution_count": 110,
   "metadata": {
    "collapsed": true
   },
   "outputs": [],
   "source": [
    "# Load first sheet of csv to get the total produce information\n",
    "column_names2 = ['Year','Production','Imports','Beginning Stocks','Total_Supply','Exports','Ending_Stocks', 'Shrink_and_Loss',\n",
    "                'Domestic_Availability','Per_Capita_Availability','Availability_Imported', 'Supply_Exported','Total_US_Population']\n",
    "total_fresh_df = pd.DataFrame(columns=column_names2)\n",
    "total_temp_df= pd.read_excel(\"fresh.csv\", sheet_name=0)\n",
    "\n",
    "# rename the columns \n",
    "total_temp_df.columns = column_names2\n",
    "last_row_idx = total_temp_df[total_temp_df['Year'] ==  2017].index\n",
    "if len(last_row_idx) > 0:\n",
    "    total_fresh_df = pd.concat([total_fresh_df,total_temp_df.iloc[5:last_row_idx[0]+1]], \n",
    "                     ignore_index  = True)"
   ]
  },
  {
   "cell_type": "markdown",
   "metadata": {},
   "source": [
    "### Create the Excel File\n",
    "The final file will be created with the name final_group12.xlsx in the local folder. It has all the raw, clean and merged data.\n",
    "The fresh.csv which is the raw file for historical prices is not being loaded into the final_group12 excel. It has total of 32 sheets, containing food prices for total 32 vegetables. Since this excel itself had so many sheets, so it is separately downloaded from the link and stored in the local system (this part is handled in the following code).\n",
    "The cleaned version of fresh.csv is Veg_fresh_clean which is being added in the final excel."
   ]
  },
  {
   "cell_type": "code",
   "execution_count": 111,
   "metadata": {
    "collapsed": true
   },
   "outputs": [],
   "source": [
    "# Code for the Cover sheet of the final file\n",
    "sheet_name_list = ['Total_fresh_raw','Total_fresh_clean','fresh.csv','Veg_fresh_clean',\n",
    "    'Price_idx_raw','Price_idx_clean','Nutrient_raw','Nutrient_clean','Final_merged']\n",
    "description_list = ['This is the raw file  containing summary price information for all the vegetables, taken from USDA website.',\n",
    "                    'This is the clean file  of Total_fresh_raw. It contains summary price information for all the vegetables. ',\n",
    "                    'This is the raw file containing price information for fresh vegetables, taken from USDA website. Tt is not provided as a sheet in this excel and will be downloaded in the current working folder.',\n",
    "                    'All the sheets from fresh.csv for all the vegetables is combined into single dataframe, removing extra data.',\n",
    "                    'This sheet is the html of the web page scrapped',\n",
    "                    'This sheet is the dataframe created after scraping the price index data from the page',\n",
    "                    'Nutrient information taken from USDA API for vegetables in json format',\n",
    "                    'Dataframe created for all the nutrient information for veggies ',\n",
    "                    'The data from Veggies_fresh_clean, Price_idx_clean and Nutrient_Clean is merged into single dataframe. Since the Total_fresh_clean is aggregated information for all vegetables so it is not merged into this final dataframe']\n",
    "first_sheet_df = pd.DataFrame(\n",
    "    {'Sheet_name': sheet_name_list,\n",
    "     'Description': description_list}, columns=['Sheet_name', 'Description'])"
   ]
  },
  {
   "cell_type": "code",
   "execution_count": 112,
   "metadata": {
    "collapsed": true
   },
   "outputs": [],
   "source": [
    "# Write the Cover sheet, total_fresh dataframe - both raw and clean, fresh_df clean data to excel file\n",
    "writer = pd.ExcelWriter('final_group12.xlsx', engine='xlsxwriter')\n",
    "first_sheet_df.to_excel(writer, sheet_name='Cover', index=False)\n",
    "total_temp_df.to_excel(writer, sheet_name='Total_fresh_raw', index=False)\n",
    "total_fresh_df.to_excel(writer, sheet_name='Total_fresh_clean', index=False)\n",
    "fresh_df.to_excel(writer, sheet_name='Veg_fresh_clean', index=False)"
   ]
  },
  {
   "cell_type": "markdown",
   "metadata": {},
   "source": [
    "<a id='ws_load'></a>\n",
    "### 3.2 Web scrape the food price index data"
   ]
  },
  {
   "cell_type": "markdown",
   "metadata": {},
   "source": [
    "The next task is to get the webscraped data for the food price index. \n",
    "\n",
    "#### Challenge- \n",
    "Most of the sites either had agricultural price index data either in csv or pdf format. Or most of the websites only had price index for last 6 months. Since this was a very short duration to the data analysis, so we had to find a source where we can get long term market price index data. Finally, a source was identified, but it only has 5 years of data from 2014 to 2018. \n",
    "\n",
    "Also, this source provides the monthly data and the historical price data was at yearly level.\n",
    "\n",
    "#### Solution- \n",
    "It was decided to web scrape this data, and do market index price comparison and analysis for only those 4 years. The price index for each year was averaged to get the yearly price index.\n"
   ]
  },
  {
   "cell_type": "markdown",
   "metadata": {},
   "source": [
    "#### Web scraping process:\n",
    "The webscraping for this data was not very complicated. The following process was done - \n",
    "##### Step 1 - Extract page content using BeautifulSoup\n",
    "Using BeautifulSoup, the HTML contents of the page were scrapped.\n",
    "\n",
    "##### Step 2 - Extract the relevant divs.\n",
    "\n",
    "##### Step 3 - Get the table rows and columns-\n",
    "The table rows were extracted and stripped off of any special characters. \n",
    "\n",
    "##### Step 4 : \n",
    "Extract the year from the Months column and create a separate column for year. This is necessary step to aggreagte at year level in the further steps."
   ]
  },
  {
   "cell_type": "code",
   "execution_count": 113,
   "metadata": {
    "collapsed": true
   },
   "outputs": [],
   "source": [
    "page = requests.get('https://ycharts.com/indicators/agriculture_index_world_bank')\n",
    "page = page.content\n",
    "soup = bs(page, 'html.parser')\n",
    "# write html contents to file\n",
    "# ws_contents_df = pd.DataFrame(list(str(soup.contents)))\n",
    "# ws_contents_df.to_excel(writer, sheet_name='Price_idx_raw', index=False)\n",
    "dataTableBox = soup.find('div', {\"id\": \"dataTableBox\"})\n",
    "col1 = []\n",
    "col2 = []\n",
    "# get the data from table into lists\n",
    "for tr in dataTableBox.find_all('tr')[2:]:\n",
    "    cols = tr.find_all('td')\n",
    "    if(len(cols) == 0 ): # for empty div comming in between\n",
    "        continue\n",
    "#     print(datetime.strptime(cols[0].text, '%m. %d, %y'))\n",
    "    col1.append(cols[0].text)\n",
    "    col2.append(float(cols[1].text.strip()))\n",
    "\n",
    "# Create dataframe from the lists of data\n",
    "pd1_input_list = {'Month':col1,'Price_Index':col2}\n",
    "df1 = pd.DataFrame(pd1_input_list)\n",
    "# Get the year in separate column and get the average price_indices foe each year\n",
    "df1['Year'] = df1.Month.str.slice(-4)\n",
    "# Write the dataframe data to excel file\n",
    "df1.to_excel(writer, sheet_name='Price_idx_clean', index=False)\n"
   ]
  },
  {
   "cell_type": "markdown",
   "metadata": {},
   "source": [
    "<a id='api_load'></a>\n",
    "### 3.3 Loading and Cleaning the Data from API:"
   ]
  },
  {
   "cell_type": "markdown",
   "metadata": {},
   "source": [
    "The nutrient information for the vegetables is extracted from the API. The main idea to include this data was to increase the diversity in the data sources included in the project. However, it was very difficult to find an API for for price related information. So we decided to fetch the food nutrient related information from USDA website.\n",
    "\n",
    "#### Challenges in implementing API - \n",
    "\n",
    "##### a. No develop support for this API-\n",
    "This website to get the data through the USDA API is recently launched, so the developer support is very limited and there is not much online help regarding the instructions to get this data. Since both the team members had not worked on APIs before so it was challenging task to figure out the process of extracting the relevant information from API.\n",
    "\n",
    "##### b. No information of the vegetable and nutrient codes -\n",
    "The USDA website provides just some toy example with a couple of food items on how to extract the data via API. However it has nutrient information for more that 50,000 items, which include all categories like dairy, fruits, vegetables, cereals, canned items, poultry, beef, etc. And around nutrient information of more than 50 nutrients is provided. But it doesn't specify the codes for vegetables and nutrients. So we had to figure out the codes for every combination of relevant nutrients  and vegetables.\n",
    "\n",
    "##### c. Multiple versions for same vegetable - \n",
    "For the same vegetable, multiple versions of it are available and they have different nutrients. For example, for Brocolli itself, it provided following 6 version -\n",
    "Broccoli raab, raw\n",
    "Broccoli raab, cooked\n",
    "Broccoli, cooked, boiled, drained, without salt\t\n",
    "Broccoli, cooked, boiled, drained, with salt\n",
    "Broccoli, frozen, chopped, unprepared\n",
    "Broccoli, raw\n",
    "\n",
    "This much complexity makes it very difficult to get the specific nutrients from the incoming API data.\n",
    "\n",
    "##### d. Incoming json format- \n",
    "The incoming json format was very complicated so it took lot of efforts to extract the relevant informationn for our analysis.\n",
    "The json data was in structure dict -> dict -> list -> dict. So for every vegetable, it had a list of nutrients. And information for each nutrient was in a dictionary format. \n",
    "\n",
    "The json data when extracted directly into pandas Dataframe looked like this - \n",
    "\n",
    "name\t                                                                nutrients\t                                         \n",
    "Alfalfa seeds, sprouted, raw\t                                        [{'nutrient_id': '211', 'nutrient': 'Glucose (...\t\n",
    "artichoke, medium\tArtichokes, (globe or french), cooked, boiled,...\t[{'nutrient_id': '211', 'nutrient': 'Glucose (...\t\n",
    "artichoke, medium\tArtichokes, (globe or french), cooked, boiled,...\t[{'nutrient_id': '211', 'nutrient': 'Glucose (...\t\n",
    "\n",
    "Hence it took lot of efforts to get the data in the correct format."
   ]
  },
  {
   "cell_type": "markdown",
   "metadata": {},
   "source": [
    "### Steps to download the API data -\n",
    "##### Step 1 - Request the API data\n",
    "API data was extracted using requests.get() method\n",
    "##### Step 2 - Get the nutrients info in a list\n",
    "This is done to extract the data from the complex dict -> dict -> list -> dict structure to a simple list structure.\n",
    "Then a dictionary is created with all the nutrient names and their nutrient contents.\n",
    "\n",
    "##### Step 3 - Create the data frame\n",
    "The Data Frame is created which has all the vegetables and thier nutrient information.\n"
   ]
  },
  {
   "cell_type": "code",
   "execution_count": 114,
   "metadata": {
    "collapsed": true
   },
   "outputs": [],
   "source": [
    "import requests\n",
    "import sys\n",
    "import json\n",
    "\n",
    "key = 'GlanxFCOEPxiiEXJK37dPGQjnfM0wFfrZf2uuWti'\n",
    "url = 'https://api.nal.usda.gov/ndb/nutrients/?format=json&api_key=GlanxFCOEPxiiEXJK37dPGQjnfM0wFfrZf2uuWti&nutrients=208&nutrients=203&nutrients=204&nutrients=205&nutrients=291&nutrients=269&nutrients=211&nutrients=212&fg=1100'\n",
    "response = requests.get(url)\n",
    "x = response.json()\n",
    "\n",
    "json_df =  pd.DataFrame(x)\n",
    "json_df.to_excel(writer, sheet_name='Nutrient_raw', index=False)\n",
    "# grab the nutrient information and vegetable name information from nested dict structure from json\n",
    "my_data = x['report']['foods']\n",
    "nut_info = [nut for veggie in my_data for nut in veggie['nutrients']] # list of nutrient info\n",
    "veg = [veggie['name'] for veggie in my_data for nut in veggie['nutrients']] # list of vegetable names - each name is repeated 8 times fro 8 nutrients\n",
    "\n",
    "#Create dictionary to get just the nutrient value in 'gm' \n",
    "gm_dict = {}\n",
    "gm_dict = defaultdict(list)\n",
    "for item in nut_info:\n",
    "    gm_dict['gm'].append(item['gm'])\n",
    "# create the data frame of the nutrient info - each nutrient values is in each row\n",
    "nutrients_df_raw = pd.DataFrame(gm_dict)\n",
    "# get the nutrients in a column format by reshaping the dataframe - total 8 nutrients, so 8 columns are created\n",
    "nutrients_df_raw = pd.DataFrame(np.reshape(nutrients_df_raw.values,(150,8)), \n",
    "                    columns=['Glucose','Fructose','Protein','Sugars','fat',\n",
    "                             'Carbohydrate' , 'Energy', 'Fiber'])\n",
    "nutrients_df_raw['Veg_full_name'] = veg[0::8] # since each name is repeated 8 times, so grab every eighth name\n",
    "\n",
    "nutrients_df_raw.to_excel(writer, sheet_name='Nutrient_clean', index=False)"
   ]
  },
  {
   "cell_type": "markdown",
   "metadata": {},
   "source": [
    "### Join Fresh DF and Price index dataframe"
   ]
  },
  {
   "cell_type": "markdown",
   "metadata": {},
   "source": [
    "Merge the fresh_df, which has the historical price info, with the market price index dataframe. The joining column is year. \n",
    "The join is done left join to preserve the historical data from year 1971 to 2013. Since the data for these years is not present in the market price index dataframe."
   ]
  },
  {
   "cell_type": "code",
   "execution_count": 115,
   "metadata": {
    "collapsed": true
   },
   "outputs": [],
   "source": [
    "pi_by_year = df1.groupby('Year', as_index=False)['Price_Index'].mean() \n",
    "pi_by_year['Year'] = pi_by_year['Year'].astype(int) # convert year to int type\n",
    "# merge fresh_df and pi_by_year on Year column values\n",
    "final_df = pd.merge(fresh_df, pi_by_year, on=\"Year\",how='left')\n"
   ]
  },
  {
   "cell_type": "markdown",
   "metadata": {},
   "source": [
    "### Find the common vegetables in Nutrient DF and Final DF and then merge the two DF "
   ]
  },
  {
   "cell_type": "markdown",
   "metadata": {},
   "source": [
    "Next the nutrient information data frame is merged to create the final merged data frame. The merge is done using the Vegetable name.\n",
    "\n",
    "Here however the challenge was that since for each vegetable, it had more than 8-9 versions for which different nutrients info was provided. So it was decided to take the nutrient information which was for the raw version of the vegetable.\n",
    "Also, not all vegetables followed the same naming convention.That is, for some vegetables, there was name didn't included the string 'raw'. For example for Lettuce it had two versions, Lettuce Red and Lettuce Green. So for such vegetables, the nutrient information was extracted separately.\n",
    "\n"
   ]
  },
  {
   "cell_type": "code",
   "execution_count": 116,
   "metadata": {
    "collapsed": true
   },
   "outputs": [],
   "source": [
    "raw_names_nut = [ item for item in nutrients_df_raw['Veg_full_name'] if item.find('raw') > 0]\n",
    "# find nutrient information for all the vegetables that are present in the fresh vegetables DF\n",
    "nutrients_df_raw['Vegetable'] = ''\n",
    "for veg in final_df['Vegetable'].unique():\n",
    "    veggie = veg + ', raw'\n",
    "    raw_veggie = [rnn for rnn in raw_names_nut if veggie.lower() in rnn.lower()]\n",
    "    if len(raw_veggie) > 0:\n",
    "        true_idx = nutrients_df_raw['Veg_full_name'] == raw_veggie[0]\n",
    "        nutrients_df_raw['Vegetable'][true_idx] = veg\n",
    "# Merge nutrients dataframe and Final DF\n",
    "final_df = pd.merge(final_df, nutrients_df_raw, on=\"Vegetable\", how = 'left')\n",
    "\n",
    "# Write the dataframe data to excel file\n",
    "final_df.to_excel(writer, sheet_name='Final_merged', index= False)\n",
    "writer.save()"
   ]
  },
  {
   "cell_type": "markdown",
   "metadata": {},
   "source": [
    "<a id='4'></a>\n",
    "## 4. Analysis of Data"
   ]
  },
  {
   "cell_type": "markdown",
   "metadata": {},
   "source": [
    "<a id='4.1'></a>\n",
    "#### 4.1  Nutrients content in the vegetables"
   ]
  },
  {
   "cell_type": "code",
   "execution_count": 117,
   "metadata": {
    "scrolled": false
   },
   "outputs": [
    {
     "data": {
      "text/html": [
       "<div>\n",
       "<style scoped>\n",
       "    .dataframe tbody tr th:only-of-type {\n",
       "        vertical-align: middle;\n",
       "    }\n",
       "\n",
       "    .dataframe tbody tr th {\n",
       "        vertical-align: top;\n",
       "    }\n",
       "\n",
       "    .dataframe thead th {\n",
       "        text-align: right;\n",
       "    }\n",
       "</style>\n",
       "<table border=\"1\" class=\"dataframe\">\n",
       "  <thead>\n",
       "    <tr style=\"text-align: right;\">\n",
       "      <th></th>\n",
       "      <th>Glucose</th>\n",
       "      <th>Fructose</th>\n",
       "      <th>Protein</th>\n",
       "      <th>Sugars</th>\n",
       "      <th>fat</th>\n",
       "      <th>Carbohydrate</th>\n",
       "      <th>Energy</th>\n",
       "      <th>Fiber</th>\n",
       "      <th>Veg_full_name</th>\n",
       "      <th>Vegetable</th>\n",
       "    </tr>\n",
       "  </thead>\n",
       "  <tbody>\n",
       "    <tr>\n",
       "      <th>5</th>\n",
       "      <td>0.65</td>\n",
       "      <td>1</td>\n",
       "      <td>2.2</td>\n",
       "      <td>1.88</td>\n",
       "      <td>0.12</td>\n",
       "      <td>3.88</td>\n",
       "      <td>20</td>\n",
       "      <td>2.1</td>\n",
       "      <td>Asparagus, raw</td>\n",
       "      <td>asparagus</td>\n",
       "    </tr>\n",
       "    <tr>\n",
       "      <th>18</th>\n",
       "      <td>0.49</td>\n",
       "      <td>0.68</td>\n",
       "      <td>2.82</td>\n",
       "      <td>1.7</td>\n",
       "      <td>0.37</td>\n",
       "      <td>6.64</td>\n",
       "      <td>34</td>\n",
       "      <td>2.6</td>\n",
       "      <td>Broccoli, raw</td>\n",
       "      <td>broccoli</td>\n",
       "    </tr>\n",
       "    <tr>\n",
       "      <th>33</th>\n",
       "      <td>0.59</td>\n",
       "      <td>0.55</td>\n",
       "      <td>0.93</td>\n",
       "      <td>4.74</td>\n",
       "      <td>0.24</td>\n",
       "      <td>9.58</td>\n",
       "      <td>41</td>\n",
       "      <td>2.8</td>\n",
       "      <td>Carrots, raw</td>\n",
       "      <td>carrots</td>\n",
       "    </tr>\n",
       "    <tr>\n",
       "      <th>36</th>\n",
       "      <td>0.94</td>\n",
       "      <td>0.97</td>\n",
       "      <td>1.92</td>\n",
       "      <td>1.91</td>\n",
       "      <td>0.28</td>\n",
       "      <td>4.97</td>\n",
       "      <td>25</td>\n",
       "      <td>2</td>\n",
       "      <td>Cauliflower, raw</td>\n",
       "      <td>cauliflower</td>\n",
       "    </tr>\n",
       "    <tr>\n",
       "      <th>39</th>\n",
       "      <td>0.4</td>\n",
       "      <td>0.37</td>\n",
       "      <td>0.69</td>\n",
       "      <td>1.34</td>\n",
       "      <td>0.17</td>\n",
       "      <td>2.97</td>\n",
       "      <td>14</td>\n",
       "      <td>1.6</td>\n",
       "      <td>Celery, raw</td>\n",
       "      <td>celery</td>\n",
       "    </tr>\n",
       "    <tr>\n",
       "      <th>66</th>\n",
       "      <td>1.58</td>\n",
       "      <td>1.54</td>\n",
       "      <td>0.98</td>\n",
       "      <td>3.53</td>\n",
       "      <td>0.18</td>\n",
       "      <td>5.88</td>\n",
       "      <td>25</td>\n",
       "      <td>3</td>\n",
       "      <td>Eggplant, raw</td>\n",
       "      <td>eggplant</td>\n",
       "    </tr>\n",
       "    <tr>\n",
       "      <th>72</th>\n",
       "      <td>0.4</td>\n",
       "      <td>0.41</td>\n",
       "      <td>2.92</td>\n",
       "      <td>0.99</td>\n",
       "      <td>1.49</td>\n",
       "      <td>4.42</td>\n",
       "      <td>35</td>\n",
       "      <td>4.1</td>\n",
       "      <td>Kale, raw</td>\n",
       "      <td>kale</td>\n",
       "    </tr>\n",
       "  </tbody>\n",
       "</table>\n",
       "</div>"
      ],
      "text/plain": [
       "   Glucose Fructose Protein Sugars   fat Carbohydrate Energy Fiber  \\\n",
       "5     0.65        1     2.2   1.88  0.12         3.88     20   2.1   \n",
       "18    0.49     0.68    2.82    1.7  0.37         6.64     34   2.6   \n",
       "33    0.59     0.55    0.93   4.74  0.24         9.58     41   2.8   \n",
       "36    0.94     0.97    1.92   1.91  0.28         4.97     25     2   \n",
       "39     0.4     0.37    0.69   1.34  0.17         2.97     14   1.6   \n",
       "66    1.58     1.54    0.98   3.53  0.18         5.88     25     3   \n",
       "72     0.4     0.41    2.92   0.99  1.49         4.42     35   4.1   \n",
       "\n",
       "       Veg_full_name    Vegetable  \n",
       "5     Asparagus, raw    asparagus  \n",
       "18     Broccoli, raw     broccoli  \n",
       "33      Carrots, raw      carrots  \n",
       "36  Cauliflower, raw  cauliflower  \n",
       "39       Celery, raw       celery  \n",
       "66     Eggplant, raw     eggplant  \n",
       "72         Kale, raw         kale  "
      ]
     },
     "execution_count": 117,
     "metadata": {},
     "output_type": "execute_result"
    }
   ],
   "source": [
    "nutri_df = nutrients_df_raw[nutrients_df_raw.Vegetable != '']\n",
    "nutri_df"
   ]
  },
  {
   "cell_type": "code",
   "execution_count": 118,
   "metadata": {
    "collapsed": true
   },
   "outputs": [],
   "source": [
    "fresh_df = fresh_df.replace('            --', 0)\n",
    "fresh_df = fresh_df.replace('             --', 0)"
   ]
  },
  {
   "cell_type": "markdown",
   "metadata": {},
   "source": [
    "<a id='4.2'></a>\n",
    "#### 4.2 Plot the nutrient content for each type of vegetable"
   ]
  },
  {
   "cell_type": "code",
   "execution_count": 119,
   "metadata": {},
   "outputs": [
    {
     "data": {
      "text/html": [
       "<script>requirejs.config({paths: { 'plotly': ['https://cdn.plot.ly/plotly-latest.min']},});if(!window.Plotly) {{require(['plotly'],function(plotly) {window.Plotly=plotly;});}}</script>"
      ],
      "text/vnd.plotly.v1+html": [
       "<script>requirejs.config({paths: { 'plotly': ['https://cdn.plot.ly/plotly-latest.min']},});if(!window.Plotly) {{require(['plotly'],function(plotly) {window.Plotly=plotly;});}}</script>"
      ]
     },
     "metadata": {},
     "output_type": "display_data"
    },
    {
     "data": {
      "application/vnd.plotly.v1+json": {
       "data": [
        {
         "marker": {
          "color": "#F39C12"
         },
         "name": "Glucose",
         "type": "bar",
         "x": [
          "asparagus",
          "broccoli",
          "carrots",
          "cauliflower",
          "celery",
          "eggplant",
          "kale"
         ],
         "y": [
          0.65,
          0.49,
          0.59,
          0.94,
          0.4,
          1.58,
          0.4
         ]
        },
        {
         "marker": {
          "color": "#A2D5F2"
         },
         "name": "Fructose",
         "type": "bar",
         "visible": false,
         "x": [
          "asparagus",
          "broccoli",
          "carrots",
          "cauliflower",
          "celery",
          "eggplant",
          "kale"
         ],
         "y": [
          1,
          0.68,
          0.55,
          0.97,
          0.37,
          1.54,
          0.41
         ]
        },
        {
         "marker": {
          "color": "#BB8FCE"
         },
         "name": "Protein",
         "type": "bar",
         "visible": false,
         "x": [
          "asparagus",
          "broccoli",
          "carrots",
          "cauliflower",
          "celery",
          "eggplant",
          "kale"
         ],
         "y": [
          2.2,
          2.82,
          0.93,
          1.92,
          0.69,
          0.98,
          2.92
         ]
        },
        {
         "marker": {
          "color": "#5499C7"
         },
         "name": "Sugars",
         "type": "bar",
         "visible": false,
         "x": [
          "asparagus",
          "broccoli",
          "carrots",
          "cauliflower",
          "celery",
          "eggplant",
          "kale"
         ],
         "y": [
          1.88,
          1.7,
          4.74,
          1.91,
          1.34,
          3.53,
          0.99
         ]
        },
        {
         "marker": {
          "color": "#F1948A"
         },
         "name": "Fat",
         "type": "bar",
         "visible": false,
         "x": [
          "asparagus",
          "broccoli",
          "carrots",
          "cauliflower",
          "celery",
          "eggplant",
          "kale"
         ],
         "y": [
          0.12,
          0.37,
          0.24,
          0.28,
          0.17,
          0.18,
          1.49
         ]
        },
        {
         "marker": {
          "color": "#F4D03F"
         },
         "name": "Carbohydrate",
         "type": "bar",
         "visible": false,
         "x": [
          "asparagus",
          "broccoli",
          "carrots",
          "cauliflower",
          "celery",
          "eggplant",
          "kale"
         ],
         "y": [
          3.88,
          6.64,
          9.58,
          4.97,
          2.97,
          5.88,
          4.42
         ]
        },
        {
         "marker": {
          "color": "#7DCEA0"
         },
         "name": "Fiber",
         "type": "bar",
         "visible": false,
         "x": [
          "asparagus",
          "broccoli",
          "carrots",
          "cauliflower",
          "celery",
          "eggplant",
          "kale"
         ],
         "y": [
          2.1,
          2.6,
          2.8,
          2,
          1.6,
          3,
          4.1
         ]
        }
       ],
       "layout": {
        "updatemenus": [
         {
          "buttons": [
           {
            "args": [
             "marker.color",
             "red"
            ],
            "label": "red",
            "method": "restyle"
           },
           {
            "args": [
             "marker.color",
             "blue"
            ],
            "label": "blue",
            "method": "restyle"
           },
           {
            "args": [
             "marker.color",
             "green"
            ],
            "label": "green",
            "method": "restyle"
           }
          ],
          "x": -0.05,
          "y": 0.8,
          "yanchor": "top"
         },
         {
          "buttons": [
           {
            "args": [
             "visible",
             [
              true,
              false,
              false,
              false,
              false,
              false,
              false
             ]
            ],
            "label": "Glucose",
            "method": "restyle"
           },
           {
            "args": [
             "visible",
             [
              false,
              true,
              false,
              false,
              false,
              false,
              false
             ]
            ],
            "label": "Fructose",
            "method": "restyle"
           },
           {
            "args": [
             "visible",
             [
              false,
              false,
              true,
              false,
              false,
              false,
              false
             ]
            ],
            "label": "Protein",
            "method": "restyle"
           },
           {
            "args": [
             "visible",
             [
              false,
              false,
              false,
              true,
              false,
              false,
              false
             ]
            ],
            "label": "Sugars",
            "method": "restyle"
           },
           {
            "args": [
             "visible",
             [
              false,
              false,
              false,
              false,
              true,
              false,
              false
             ]
            ],
            "label": "Fat",
            "method": "restyle"
           },
           {
            "args": [
             "visible",
             [
              false,
              false,
              false,
              false,
              false,
              true,
              false
             ]
            ],
            "label": "Carbohydrate",
            "method": "restyle"
           },
           {
            "args": [
             "visible",
             [
              false,
              false,
              false,
              false,
              false,
              false,
              true
             ]
            ],
            "label": "Fiber",
            "method": "restyle"
           }
          ],
          "x": -0.05,
          "y": 1,
          "yanchor": "top"
         }
        ]
       }
      },
      "text/html": [
       "<div id=\"29981380-6a3d-4aa6-ac6d-05abaf09f0c6\" style=\"height: 525px; width: 100%;\" class=\"plotly-graph-div\"></div><script type=\"text/javascript\">require([\"plotly\"], function(Plotly) { window.PLOTLYENV=window.PLOTLYENV || {};window.PLOTLYENV.BASE_URL=\"https://plot.ly\";Plotly.newPlot(\"29981380-6a3d-4aa6-ac6d-05abaf09f0c6\", [{\"type\": \"bar\", \"x\": [\"asparagus\", \"broccoli\", \"carrots\", \"cauliflower\", \"celery\", \"eggplant\", \"kale\"], \"y\": [0.65, 0.49, 0.59, 0.94, 0.4, 1.58, 0.4], \"name\": \"Glucose\", \"marker\": {\"color\": \"#F39C12\"}}, {\"type\": \"bar\", \"x\": [\"asparagus\", \"broccoli\", \"carrots\", \"cauliflower\", \"celery\", \"eggplant\", \"kale\"], \"y\": [1.0, 0.68, 0.55, 0.97, 0.37, 1.54, 0.41], \"name\": \"Fructose\", \"marker\": {\"color\": \"#A2D5F2\"}, \"visible\": false}, {\"type\": \"bar\", \"x\": [\"asparagus\", \"broccoli\", \"carrots\", \"cauliflower\", \"celery\", \"eggplant\", \"kale\"], \"y\": [2.2, 2.82, 0.93, 1.92, 0.69, 0.98, 2.92], \"name\": \"Protein\", \"marker\": {\"color\": \"#BB8FCE\"}, \"visible\": false}, {\"type\": \"bar\", \"x\": [\"asparagus\", \"broccoli\", \"carrots\", \"cauliflower\", \"celery\", \"eggplant\", \"kale\"], \"y\": [1.88, 1.7, 4.74, 1.91, 1.34, 3.53, 0.99], \"marker\": {\"color\": \"#5499C7\"}, \"name\": \"Sugars\", \"visible\": false}, {\"type\": \"bar\", \"x\": [\"asparagus\", \"broccoli\", \"carrots\", \"cauliflower\", \"celery\", \"eggplant\", \"kale\"], \"y\": [0.12, 0.37, 0.24, 0.28, 0.17, 0.18, 1.49], \"marker\": {\"color\": \"#F1948A\"}, \"name\": \"Fat\", \"visible\": false}, {\"type\": \"bar\", \"x\": [\"asparagus\", \"broccoli\", \"carrots\", \"cauliflower\", \"celery\", \"eggplant\", \"kale\"], \"y\": [3.88, 6.64, 9.58, 4.97, 2.97, 5.88, 4.42], \"marker\": {\"color\": \"#F4D03F\"}, \"name\": \"Carbohydrate\", \"visible\": false}, {\"type\": \"bar\", \"x\": [\"asparagus\", \"broccoli\", \"carrots\", \"cauliflower\", \"celery\", \"eggplant\", \"kale\"], \"y\": [2.1, 2.6, 2.8, 2.0, 1.6, 3.0, 4.1], \"marker\": {\"color\": \"#7DCEA0\"}, \"name\": \"Fiber\", \"visible\": false}], {\"updatemenus\": [{\"x\": -0.05, \"y\": 0.8, \"buttons\": [{\"args\": [\"marker.color\", \"red\"], \"label\": \"red\", \"method\": \"restyle\"}, {\"args\": [\"marker.color\", \"blue\"], \"label\": \"blue\", \"method\": \"restyle\"}, {\"args\": [\"marker.color\", \"green\"], \"label\": \"green\", \"method\": \"restyle\"}], \"yanchor\": \"top\"}, {\"x\": -0.05, \"y\": 1, \"buttons\": [{\"args\": [\"visible\", [true, false, false, false, false, false, false]], \"label\": \"Glucose\", \"method\": \"restyle\"}, {\"args\": [\"visible\", [false, true, false, false, false, false, false]], \"label\": \"Fructose\", \"method\": \"restyle\"}, {\"args\": [\"visible\", [false, false, true, false, false, false, false]], \"label\": \"Protein\", \"method\": \"restyle\"}, {\"args\": [\"visible\", [false, false, false, true, false, false, false]], \"label\": \"Sugars\", \"method\": \"restyle\"}, {\"args\": [\"visible\", [false, false, false, false, true, false, false]], \"label\": \"Fat\", \"method\": \"restyle\"}, {\"args\": [\"visible\", [false, false, false, false, false, true, false]], \"label\": \"Carbohydrate\", \"method\": \"restyle\"}, {\"args\": [\"visible\", [false, false, false, false, false, false, true]], \"label\": \"Fiber\", \"method\": \"restyle\"}], \"yanchor\": \"top\"}]}, {\"showLink\": true, \"linkText\": \"Export to plot.ly\"})});</script>"
      ],
      "text/vnd.plotly.v1+html": [
       "<div id=\"29981380-6a3d-4aa6-ac6d-05abaf09f0c6\" style=\"height: 525px; width: 100%;\" class=\"plotly-graph-div\"></div><script type=\"text/javascript\">require([\"plotly\"], function(Plotly) { window.PLOTLYENV=window.PLOTLYENV || {};window.PLOTLYENV.BASE_URL=\"https://plot.ly\";Plotly.newPlot(\"29981380-6a3d-4aa6-ac6d-05abaf09f0c6\", [{\"type\": \"bar\", \"x\": [\"asparagus\", \"broccoli\", \"carrots\", \"cauliflower\", \"celery\", \"eggplant\", \"kale\"], \"y\": [0.65, 0.49, 0.59, 0.94, 0.4, 1.58, 0.4], \"name\": \"Glucose\", \"marker\": {\"color\": \"#F39C12\"}}, {\"type\": \"bar\", \"x\": [\"asparagus\", \"broccoli\", \"carrots\", \"cauliflower\", \"celery\", \"eggplant\", \"kale\"], \"y\": [1.0, 0.68, 0.55, 0.97, 0.37, 1.54, 0.41], \"name\": \"Fructose\", \"marker\": {\"color\": \"#A2D5F2\"}, \"visible\": false}, {\"type\": \"bar\", \"x\": [\"asparagus\", \"broccoli\", \"carrots\", \"cauliflower\", \"celery\", \"eggplant\", \"kale\"], \"y\": [2.2, 2.82, 0.93, 1.92, 0.69, 0.98, 2.92], \"name\": \"Protein\", \"marker\": {\"color\": \"#BB8FCE\"}, \"visible\": false}, {\"type\": \"bar\", \"x\": [\"asparagus\", \"broccoli\", \"carrots\", \"cauliflower\", \"celery\", \"eggplant\", \"kale\"], \"y\": [1.88, 1.7, 4.74, 1.91, 1.34, 3.53, 0.99], \"marker\": {\"color\": \"#5499C7\"}, \"name\": \"Sugars\", \"visible\": false}, {\"type\": \"bar\", \"x\": [\"asparagus\", \"broccoli\", \"carrots\", \"cauliflower\", \"celery\", \"eggplant\", \"kale\"], \"y\": [0.12, 0.37, 0.24, 0.28, 0.17, 0.18, 1.49], \"marker\": {\"color\": \"#F1948A\"}, \"name\": \"Fat\", \"visible\": false}, {\"type\": \"bar\", \"x\": [\"asparagus\", \"broccoli\", \"carrots\", \"cauliflower\", \"celery\", \"eggplant\", \"kale\"], \"y\": [3.88, 6.64, 9.58, 4.97, 2.97, 5.88, 4.42], \"marker\": {\"color\": \"#F4D03F\"}, \"name\": \"Carbohydrate\", \"visible\": false}, {\"type\": \"bar\", \"x\": [\"asparagus\", \"broccoli\", \"carrots\", \"cauliflower\", \"celery\", \"eggplant\", \"kale\"], \"y\": [2.1, 2.6, 2.8, 2.0, 1.6, 3.0, 4.1], \"marker\": {\"color\": \"#7DCEA0\"}, \"name\": \"Fiber\", \"visible\": false}], {\"updatemenus\": [{\"x\": -0.05, \"y\": 0.8, \"buttons\": [{\"args\": [\"marker.color\", \"red\"], \"label\": \"red\", \"method\": \"restyle\"}, {\"args\": [\"marker.color\", \"blue\"], \"label\": \"blue\", \"method\": \"restyle\"}, {\"args\": [\"marker.color\", \"green\"], \"label\": \"green\", \"method\": \"restyle\"}], \"yanchor\": \"top\"}, {\"x\": -0.05, \"y\": 1, \"buttons\": [{\"args\": [\"visible\", [true, false, false, false, false, false, false]], \"label\": \"Glucose\", \"method\": \"restyle\"}, {\"args\": [\"visible\", [false, true, false, false, false, false, false]], \"label\": \"Fructose\", \"method\": \"restyle\"}, {\"args\": [\"visible\", [false, false, true, false, false, false, false]], \"label\": \"Protein\", \"method\": \"restyle\"}, {\"args\": [\"visible\", [false, false, false, true, false, false, false]], \"label\": \"Sugars\", \"method\": \"restyle\"}, {\"args\": [\"visible\", [false, false, false, false, true, false, false]], \"label\": \"Fat\", \"method\": \"restyle\"}, {\"args\": [\"visible\", [false, false, false, false, false, true, false]], \"label\": \"Carbohydrate\", \"method\": \"restyle\"}, {\"args\": [\"visible\", [false, false, false, false, false, false, true]], \"label\": \"Fiber\", \"method\": \"restyle\"}], \"yanchor\": \"top\"}]}, {\"showLink\": true, \"linkText\": \"Export to plot.ly\"})});</script>"
      ]
     },
     "metadata": {},
     "output_type": "display_data"
    }
   ],
   "source": [
    "#######################################################################################\n",
    "# Install Plotly using Conda install command: conda install plotly\n",
    "# source: https://plot.ly/~notebook_demo/85/new-to-plotly-plotlys-python-library-i/\n",
    "#################################################################################\n",
    "import plotly.plotly as py\n",
    "from plotly.graph_objs import *\n",
    "\n",
    "##############################################################################################################################\n",
    "# When using plotly.offline.iplot to plot offline in Jupyter Notebooks, there is an additional initialization step of running \n",
    "# at the start of each notebook session. :\n",
    "#        plotly.offline.init_notebook_mode(connected=True)\n",
    "##############################################################################################################################\n",
    "\n",
    "plotly.offline.init_notebook_mode(connected=True)\n",
    "\n",
    "trace1 = Bar(\n",
    "    x=nutri_df['Vegetable'],\n",
    "    y=nutri_df['Glucose'],\n",
    "    name='Glucose',\n",
    "    marker=dict(color='#F39C12')\n",
    ")\n",
    "\n",
    "trace2 = Bar(\n",
    "    x=nutri_df['Vegetable'],\n",
    "    y=nutri_df['Fructose'],\n",
    "    name='Fructose',\n",
    "    marker=dict(color='#A2D5F2'),\n",
    "    visible=False\n",
    ")\n",
    "\n",
    "trace3 = Bar(\n",
    "    x=nutri_df['Vegetable'],\n",
    "    y=nutri_df['Protein'],\n",
    "    name='Protein',\n",
    "    marker=dict(color='#BB8FCE'),\n",
    "    visible=False\n",
    ")\n",
    "\n",
    "trace4 = Bar(\n",
    "    x=nutri_df['Vegetable'],\n",
    "    y=nutri_df['Sugars'],\n",
    "    marker=dict(color='#5499C7'),\n",
    "    name='Sugars',\n",
    "    visible=False\n",
    ")\n",
    "\n",
    "trace5 = Bar(\n",
    "    x=nutri_df['Vegetable'],\n",
    "    y=nutri_df['fat'],\n",
    "    marker=dict(color='#F1948A'),\n",
    "    name='Fat',\n",
    "    visible=False\n",
    ")\n",
    "\n",
    "trace6 = Bar(\n",
    "    x=nutri_df['Vegetable'],\n",
    "    y=nutri_df['Carbohydrate'],\n",
    "    marker=dict(color='#F4D03F'),\n",
    "    name='Carbohydrate',\n",
    "    visible=False\n",
    ")\n",
    "\n",
    "trace7 = Bar(\n",
    "    x=nutri_df['Vegetable'],\n",
    "    y=nutri_df['Fiber'],\n",
    "    marker=dict(color='#7DCEA0'),\n",
    "    name='Fiber',\n",
    "    visible=False\n",
    ")\n",
    "\n",
    "data = Data([trace1, trace2, trace3, trace4, trace5, trace6, trace7])\n",
    "layout = Layout(\n",
    "    updatemenus=list([\n",
    "        dict(\n",
    "            x=-0.05,\n",
    "            y=0.8,\n",
    "            buttons=list([\n",
    "                dict(\n",
    "                    args=['marker.color', 'red'],\n",
    "                    label='red',\n",
    "                    method='restyle'\n",
    "                ),\n",
    "                dict(\n",
    "                    args=['marker.color', 'blue'],\n",
    "                    label='blue',\n",
    "                    method='restyle'\n",
    "                ),\n",
    "                dict(\n",
    "                    args=['marker.color', 'green'],\n",
    "                    label='green',\n",
    "                    method='restyle'\n",
    "                )\n",
    "            ]),\n",
    "            yanchor='top'\n",
    "        ),\n",
    "        dict(\n",
    "            x=-0.05,\n",
    "            y=1,\n",
    "            buttons=list([\n",
    "                dict(\n",
    "                    args=['visible', [True, False, False, False, False, False, False]],\n",
    "                    label='Glucose',\n",
    "                    method='restyle'\n",
    "                ),\n",
    "                dict(\n",
    "                    args=['visible', [False, True, False, False, False, False, False]],\n",
    "                    label='Fructose',\n",
    "                    method='restyle'\n",
    "                ),\n",
    "                dict(\n",
    "                    args=['visible', [False, False, True, False, False, False, False]],\n",
    "                    label='Protein',\n",
    "                    method='restyle'\n",
    "                ),\n",
    "                dict(\n",
    "                    args=['visible', [False, False, False, True, False, False, False]],\n",
    "                    label='Sugars',\n",
    "                    method='restyle'\n",
    "                ),\n",
    "                dict(\n",
    "                    args=['visible', [False, False, False, False, True, False, False]],\n",
    "                    label='Fat',\n",
    "                    method='restyle'\n",
    "                ),\n",
    "                dict(\n",
    "                    args=['visible', [False, False, False, False, False, True, False]],\n",
    "                    label='Carbohydrate',\n",
    "                    method='restyle'\n",
    "                ),\n",
    "                dict(\n",
    "                    args=['visible', [False, False, False, False, False, False, True]],\n",
    "                    label='Fiber',\n",
    "                    method='restyle'\n",
    "                )\n",
    "            ]),\n",
    "            yanchor='top'\n",
    "        )\n",
    "    ]),\n",
    ")\n",
    "fig = Figure(data=data, layout=layout)\n",
    "plotly.offline.iplot(fig)"
   ]
  },
  {
   "cell_type": "markdown",
   "metadata": {},
   "source": [
    "Each Vegetable is a great source of nutrients such as Glucose, Fructose, Protein, Sugars, fat, Carbohydrate, Fiber etc.\n",
    "In the above plot, by Selecting type of nutrient from the drop down box, selected nutrient content for each type of vegetable will be displayed in the bar diagram."
   ]
  },
  {
   "cell_type": "markdown",
   "metadata": {},
   "source": [
    "<a id='4.3'></a>\n",
    "#### 4.3  Plot the Production quantity for Escarole & Endive Vegetable"
   ]
  },
  {
   "cell_type": "code",
   "execution_count": 120,
   "metadata": {},
   "outputs": [
    {
     "data": {
      "text/html": [
       "<script>requirejs.config({paths: { 'plotly': ['https://cdn.plot.ly/plotly-latest.min']},});if(!window.Plotly) {{require(['plotly'],function(plotly) {window.Plotly=plotly;});}}</script>"
      ],
      "text/vnd.plotly.v1+html": [
       "<script>requirejs.config({paths: { 'plotly': ['https://cdn.plot.ly/plotly-latest.min']},});if(!window.Plotly) {{require(['plotly'],function(plotly) {window.Plotly=plotly;});}}</script>"
      ]
     },
     "metadata": {},
     "output_type": "display_data"
    },
    {
     "data": {
      "application/vnd.plotly.v1+json": {
       "data": [
        {
         "type": "scatter",
         "x": [
          1971,
          1972,
          1973,
          1974,
          1975,
          1976,
          1977,
          1978,
          1979,
          1980,
          1981,
          1982,
          1983,
          1984,
          1985,
          1986,
          1987,
          1988,
          1989,
          1990,
          1991,
          1992,
          1993,
          1994,
          1995,
          1996,
          1997,
          1998,
          1999,
          2000,
          2001,
          2002,
          2003,
          2004,
          2005,
          2006,
          2007,
          2008,
          2009,
          2010,
          2011,
          2012,
          2013,
          2014,
          2015,
          2016,
          2017
         ],
         "y": [
          115.5,
          118,
          119.9,
          112.3,
          109.2,
          111,
          102.5,
          104.7,
          108.7,
          100.3,
          99.8,
          84.3,
          88.3,
          85.9,
          86.6,
          80.9,
          75.5,
          77.5,
          70.2,
          57.6,
          54.5,
          70.6,
          67.4,
          75.3,
          70.9,
          80,
          78,
          74,
          56.9,
          93.6,
          93.3,
          87.4,
          89.78,
          85.482,
          70.072,
          87.660144,
          73.1903221574344,
          63.117542411966355,
          53.485052971386644,
          49.988878585461684,
          80.43898095238094,
          74.89054054054054,
          56.00573905191874,
          49.07069340974212,
          24.908944174757277,
          11.016097297297295,
          10.55852822156365
         ]
        }
       ],
       "layout": {
        "title": "Production for Escarole & Endive since 1970 (in Million Pounds)"
       }
      },
      "text/html": [
       "<div id=\"12810db6-0934-47e8-a2e9-9d24391c1c4d\" style=\"height: 525px; width: 100%;\" class=\"plotly-graph-div\"></div><script type=\"text/javascript\">require([\"plotly\"], function(Plotly) { window.PLOTLYENV=window.PLOTLYENV || {};window.PLOTLYENV.BASE_URL=\"https://plot.ly\";Plotly.newPlot(\"12810db6-0934-47e8-a2e9-9d24391c1c4d\", [{\"type\": \"scatter\", \"x\": [1971, 1972, 1973, 1974, 1975, 1976, 1977, 1978, 1979, 1980, 1981, 1982, 1983, 1984, 1985, 1986, 1987, 1988, 1989, 1990, 1991, 1992, 1993, 1994, 1995, 1996, 1997, 1998, 1999, 2000, 2001, 2002, 2003, 2004, 2005, 2006, 2007, 2008, 2009, 2010, 2011, 2012, 2013, 2014, 2015, 2016, 2017], \"y\": [115.5, 118.0, 119.9, 112.3, 109.2, 111.0, 102.5, 104.7, 108.7, 100.3, 99.8, 84.3, 88.3, 85.9, 86.6, 80.9, 75.5, 77.5, 70.2, 57.6, 54.5, 70.6, 67.4, 75.3, 70.9, 80.0, 78.0, 74.0, 56.9, 93.6, 93.3, 87.4, 89.78, 85.482, 70.072, 87.660144, 73.1903221574344, 63.117542411966355, 53.485052971386644, 49.988878585461684, 80.43898095238094, 74.89054054054054, 56.00573905191874, 49.07069340974212, 24.908944174757277, 11.016097297297295, 10.55852822156365]}], {\"title\": \"Production for Escarole & Endive since 1970 (in Million Pounds)\"}, {\"showLink\": true, \"linkText\": \"Export to plot.ly\"})});</script>"
      ],
      "text/vnd.plotly.v1+html": [
       "<div id=\"12810db6-0934-47e8-a2e9-9d24391c1c4d\" style=\"height: 525px; width: 100%;\" class=\"plotly-graph-div\"></div><script type=\"text/javascript\">require([\"plotly\"], function(Plotly) { window.PLOTLYENV=window.PLOTLYENV || {};window.PLOTLYENV.BASE_URL=\"https://plot.ly\";Plotly.newPlot(\"12810db6-0934-47e8-a2e9-9d24391c1c4d\", [{\"type\": \"scatter\", \"x\": [1971, 1972, 1973, 1974, 1975, 1976, 1977, 1978, 1979, 1980, 1981, 1982, 1983, 1984, 1985, 1986, 1987, 1988, 1989, 1990, 1991, 1992, 1993, 1994, 1995, 1996, 1997, 1998, 1999, 2000, 2001, 2002, 2003, 2004, 2005, 2006, 2007, 2008, 2009, 2010, 2011, 2012, 2013, 2014, 2015, 2016, 2017], \"y\": [115.5, 118.0, 119.9, 112.3, 109.2, 111.0, 102.5, 104.7, 108.7, 100.3, 99.8, 84.3, 88.3, 85.9, 86.6, 80.9, 75.5, 77.5, 70.2, 57.6, 54.5, 70.6, 67.4, 75.3, 70.9, 80.0, 78.0, 74.0, 56.9, 93.6, 93.3, 87.4, 89.78, 85.482, 70.072, 87.660144, 73.1903221574344, 63.117542411966355, 53.485052971386644, 49.988878585461684, 80.43898095238094, 74.89054054054054, 56.00573905191874, 49.07069340974212, 24.908944174757277, 11.016097297297295, 10.55852822156365]}], {\"title\": \"Production for Escarole & Endive since 1970 (in Million Pounds)\"}, {\"showLink\": true, \"linkText\": \"Export to plot.ly\"})});</script>"
      ]
     },
     "metadata": {},
     "output_type": "display_data"
    }
   ],
   "source": [
    "import plotly.plotly as ply\n",
    "import plotly.graph_objs as go \n",
    "import plotly.offline as offline\n",
    "from plotly.offline import download_plotlyjs, init_notebook_mode, plot, iplot\n",
    "from plotly.graph_objs import Scatter, Figure, Layout\n",
    "\n",
    "plotly.offline.init_notebook_mode(connected=True)\n",
    "\n",
    "year_ee = fresh_df.iloc[396:443]['Year'] # escarole & endive\n",
    "prod_ee = fresh_df.iloc[396:443]['Production'] # escarole & endive\n",
    "\n",
    "plotly.offline.iplot({\n",
    "    \"data\": [Scatter(x=year_ee, y=prod_ee)],\n",
    "    \"layout\": Layout(title=\"Production for Escarole & Endive since 1970 (in Million Pounds)\")\n",
    "})"
   ]
  },
  {
   "cell_type": "markdown",
   "metadata": {},
   "source": [
    "As can be seen from above scatter plots, Escarole & Endive is one vegetable which looks like moving toward extinction since the Production in 2017 (10.6) has reduced to less than 10% of the production that was in 1970 (120). \n",
    "Infact, the total Domestic Availibility has reduced from 114.1 in 1970 to 13.3 in 2017."
   ]
  },
  {
   "cell_type": "markdown",
   "metadata": {},
   "source": [
    "<a id='4.4'></a>\n",
    "#### 4.4  Plot the Average Price comparison for Collard Greens vs Kale vs Spinach vs Mustard Greens"
   ]
  },
  {
   "cell_type": "code",
   "execution_count": 121,
   "metadata": {},
   "outputs": [
    {
     "data": {
      "text/html": [
       "<script>requirejs.config({paths: { 'plotly': ['https://cdn.plot.ly/plotly-latest.min']},});if(!window.Plotly) {{require(['plotly'],function(plotly) {window.Plotly=plotly;});}}</script>"
      ],
      "text/vnd.plotly.v1+html": [
       "<script>requirejs.config({paths: { 'plotly': ['https://cdn.plot.ly/plotly-latest.min']},});if(!window.Plotly) {{require(['plotly'],function(plotly) {window.Plotly=plotly;});}}</script>"
      ]
     },
     "metadata": {},
     "output_type": "display_data"
    },
    {
     "data": {
      "application/vnd.plotly.v1+json": {
       "data": [
        {
         "name": "Collard Greens",
         "type": "scatter",
         "x": [
          1998,
          1999,
          2000,
          2001,
          2002,
          2003,
          2004,
          2005,
          2006,
          2007,
          2008,
          2009,
          2010,
          2011,
          2012,
          2013,
          2014,
          2015,
          2016,
          2017
         ],
         "y": [
          0,
          0,
          24.056367610604337,
          25.786118472888763,
          0,
          0,
          17.99578153749495,
          15.392810166211913,
          24.316585458457254,
          19.332203215698364,
          17.780845660848886,
          51.6325,
          10.538380215589214,
          18.282153896840082,
          8.836695153986046,
          15.845575083644494,
          23.5274632757185,
          22.292822460896573,
          127.17993584135318,
          56.50180385455861
         ]
        },
        {
         "name": "Kale",
         "type": "scatter",
         "x": [
          1998,
          1999,
          2000,
          2001,
          2002,
          2003,
          2004,
          2005,
          2006,
          2007,
          2008,
          2009,
          2010,
          2011,
          2012,
          2013,
          2014,
          2015,
          2016,
          2017
         ],
         "y": [
          55.70240129559536,
          37.90386032396248,
          35.84032433356535,
          40.05204975765823,
          41.914548404543,
          43.58674337540706,
          42.54307327835255,
          38.88831039147725,
          38.775251258960104,
          38.248113973560315,
          37.42500454127144,
          38.789199761320695,
          36.788491369515164,
          42.26300642448086,
          65.51782339446814,
          57.945817541611824,
          55.34888642501253,
          59.546063239594424,
          63.43001996545304,
          57.808032787517114
         ]
        },
        {
         "name": "Spinach",
         "type": "scatter",
         "x": [
          1998,
          1999,
          2000,
          2001,
          2002,
          2003,
          2004,
          2005,
          2006,
          2007,
          2008,
          2009,
          2010,
          2011,
          2012,
          2013,
          2014,
          2015,
          2016,
          2017
         ],
         "y": [
          "        --",
          "        --",
          38.832106092244565,
          35.09777236587637,
          44.672918131896736,
          35.97650280986969,
          38.65573481355822,
          34.174530338594714,
          41.820061398283386,
          71.29911605877905,
          96.97168808680543,
          90.48865883052359,
          77.7173582365468,
          58.1433259136229,
          80.54164344311783,
          70.15036058050082,
          37.6524386257024,
          59.25251939677534,
          40.037356668984565,
          42.559886588242
         ]
        },
        {
         "name": "Mustard Greens",
         "type": "scatter",
         "x": [
          1998,
          1999,
          2000,
          2001,
          2002,
          2003,
          2004,
          2005,
          2006,
          2007,
          2008,
          2009,
          2010,
          2011,
          2012,
          2013,
          2014,
          2015,
          2016,
          2017
         ],
         "y": [
          56.75179435820398,
          59.188162367526495,
          54.995069407570355,
          52.20296512841929,
          52.23761745500875,
          53.745584105800305,
          47.76390981718932,
          56.84987912759344,
          58.65030674846625,
          55.8244231851435,
          56.41110104587004,
          50.20742061799714,
          66.38942244932213,
          39.621791985592075,
          48.165858085232635,
          48.410824865715554,
          44.70466563245425,
          34.650593089221246,
          53.05615885820665,
          42.18714937542075,
          44.88265357830575,
          33.123832172583654,
          41.89422744555824,
          39.80234211060719,
          42.70217224093574,
          38.15948842842817,
          40.07887727924606,
          45.4752736116741,
          40.08942063918273,
          38.832106092244565,
          38.67917770933314,
          40.2097491005714,
          42.534061830002074,
          24.90687968406408,
          24.78503331847681,
          31.534096901432218,
          33.18436328145066,
          34.26175984521746,
          39.5,
          42.18909011866299,
          39.14766615955581,
          40.12789578157873,
          40.401867651150454,
          40.39325920234814,
          51.469851420659,
          46.75056643560581,
          57.01033010656862
         ]
        }
       ],
       "layout": {
        "showlegend": true,
        "title": "Average Price comparison for Collard Greens vs Kale vs Spinach vs Mustard Greens"
       }
      },
      "text/html": [
       "<div id=\"781c6062-05ad-403a-aa3c-9471f090bfaa\" style=\"height: 525px; width: 100%;\" class=\"plotly-graph-div\"></div><script type=\"text/javascript\">require([\"plotly\"], function(Plotly) { window.PLOTLYENV=window.PLOTLYENV || {};window.PLOTLYENV.BASE_URL=\"https://plot.ly\";Plotly.newPlot(\"781c6062-05ad-403a-aa3c-9471f090bfaa\", [{\"type\": \"scatter\", \"x\": [1998, 1999, 2000, 2001, 2002, 2003, 2004, 2005, 2006, 2007, 2008, 2009, 2010, 2011, 2012, 2013, 2014, 2015, 2016, 2017], \"y\": [0, 0, 24.056367610604337, 25.786118472888763, 0, 0, 17.99578153749495, 15.392810166211913, 24.316585458457254, 19.332203215698364, 17.780845660848886, 51.6325, 10.538380215589214, 18.282153896840082, 8.836695153986046, 15.845575083644494, 23.5274632757185, 22.292822460896573, 127.17993584135318, 56.50180385455861], \"name\": \"Collard Greens\"}, {\"type\": \"scatter\", \"x\": [1998, 1999, 2000, 2001, 2002, 2003, 2004, 2005, 2006, 2007, 2008, 2009, 2010, 2011, 2012, 2013, 2014, 2015, 2016, 2017], \"y\": [55.70240129559536, 37.90386032396248, 35.84032433356535, 40.05204975765823, 41.914548404543, 43.58674337540706, 42.54307327835255, 38.88831039147725, 38.775251258960104, 38.248113973560315, 37.42500454127144, 38.789199761320695, 36.788491369515164, 42.26300642448086, 65.51782339446814, 57.945817541611824, 55.34888642501253, 59.546063239594424, 63.43001996545304, 57.808032787517114], \"name\": \"Kale\"}, {\"type\": \"scatter\", \"x\": [1998, 1999, 2000, 2001, 2002, 2003, 2004, 2005, 2006, 2007, 2008, 2009, 2010, 2011, 2012, 2013, 2014, 2015, 2016, 2017], \"y\": [\"        --\", \"        --\", 38.832106092244565, 35.09777236587637, 44.672918131896736, 35.97650280986969, 38.65573481355822, 34.174530338594714, 41.820061398283386, 71.29911605877905, 96.97168808680543, 90.48865883052359, 77.7173582365468, 58.1433259136229, 80.54164344311783, 70.15036058050082, 37.6524386257024, 59.25251939677534, 40.037356668984565, 42.559886588242], \"name\": \"Spinach\"}, {\"type\": \"scatter\", \"x\": [1998, 1999, 2000, 2001, 2002, 2003, 2004, 2005, 2006, 2007, 2008, 2009, 2010, 2011, 2012, 2013, 2014, 2015, 2016, 2017], \"y\": [56.75179435820398, 59.188162367526495, 54.995069407570355, 52.20296512841929, 52.23761745500875, 53.745584105800305, 47.76390981718932, 56.84987912759344, 58.65030674846625, 55.8244231851435, 56.41110104587004, 50.20742061799714, 66.38942244932213, 39.621791985592075, 48.165858085232635, 48.410824865715554, 44.70466563245425, 34.650593089221246, 53.05615885820665, 42.18714937542075, 44.88265357830575, 33.123832172583654, 41.89422744555824, 39.80234211060719, 42.70217224093574, 38.15948842842817, 40.07887727924606, 45.4752736116741, 40.08942063918273, 38.832106092244565, 38.67917770933314, 40.2097491005714, 42.534061830002074, 24.90687968406408, 24.78503331847681, 31.534096901432218, 33.18436328145066, 34.26175984521746, 39.5, 42.18909011866299, 39.14766615955581, 40.12789578157873, 40.401867651150454, 40.39325920234814, 51.469851420659, 46.75056643560581, 57.01033010656862], \"name\": \"Mustard Greens\"}], {\"title\": \"Average Price comparison for Collard Greens vs Kale vs Spinach vs Mustard Greens\", \"showlegend\": true}, {\"showLink\": true, \"linkText\": \"Export to plot.ly\"})});</script>"
      ],
      "text/vnd.plotly.v1+html": [
       "<div id=\"781c6062-05ad-403a-aa3c-9471f090bfaa\" style=\"height: 525px; width: 100%;\" class=\"plotly-graph-div\"></div><script type=\"text/javascript\">require([\"plotly\"], function(Plotly) { window.PLOTLYENV=window.PLOTLYENV || {};window.PLOTLYENV.BASE_URL=\"https://plot.ly\";Plotly.newPlot(\"781c6062-05ad-403a-aa3c-9471f090bfaa\", [{\"type\": \"scatter\", \"x\": [1998, 1999, 2000, 2001, 2002, 2003, 2004, 2005, 2006, 2007, 2008, 2009, 2010, 2011, 2012, 2013, 2014, 2015, 2016, 2017], \"y\": [0, 0, 24.056367610604337, 25.786118472888763, 0, 0, 17.99578153749495, 15.392810166211913, 24.316585458457254, 19.332203215698364, 17.780845660848886, 51.6325, 10.538380215589214, 18.282153896840082, 8.836695153986046, 15.845575083644494, 23.5274632757185, 22.292822460896573, 127.17993584135318, 56.50180385455861], \"name\": \"Collard Greens\"}, {\"type\": \"scatter\", \"x\": [1998, 1999, 2000, 2001, 2002, 2003, 2004, 2005, 2006, 2007, 2008, 2009, 2010, 2011, 2012, 2013, 2014, 2015, 2016, 2017], \"y\": [55.70240129559536, 37.90386032396248, 35.84032433356535, 40.05204975765823, 41.914548404543, 43.58674337540706, 42.54307327835255, 38.88831039147725, 38.775251258960104, 38.248113973560315, 37.42500454127144, 38.789199761320695, 36.788491369515164, 42.26300642448086, 65.51782339446814, 57.945817541611824, 55.34888642501253, 59.546063239594424, 63.43001996545304, 57.808032787517114], \"name\": \"Kale\"}, {\"type\": \"scatter\", \"x\": [1998, 1999, 2000, 2001, 2002, 2003, 2004, 2005, 2006, 2007, 2008, 2009, 2010, 2011, 2012, 2013, 2014, 2015, 2016, 2017], \"y\": [\"        --\", \"        --\", 38.832106092244565, 35.09777236587637, 44.672918131896736, 35.97650280986969, 38.65573481355822, 34.174530338594714, 41.820061398283386, 71.29911605877905, 96.97168808680543, 90.48865883052359, 77.7173582365468, 58.1433259136229, 80.54164344311783, 70.15036058050082, 37.6524386257024, 59.25251939677534, 40.037356668984565, 42.559886588242], \"name\": \"Spinach\"}, {\"type\": \"scatter\", \"x\": [1998, 1999, 2000, 2001, 2002, 2003, 2004, 2005, 2006, 2007, 2008, 2009, 2010, 2011, 2012, 2013, 2014, 2015, 2016, 2017], \"y\": [56.75179435820398, 59.188162367526495, 54.995069407570355, 52.20296512841929, 52.23761745500875, 53.745584105800305, 47.76390981718932, 56.84987912759344, 58.65030674846625, 55.8244231851435, 56.41110104587004, 50.20742061799714, 66.38942244932213, 39.621791985592075, 48.165858085232635, 48.410824865715554, 44.70466563245425, 34.650593089221246, 53.05615885820665, 42.18714937542075, 44.88265357830575, 33.123832172583654, 41.89422744555824, 39.80234211060719, 42.70217224093574, 38.15948842842817, 40.07887727924606, 45.4752736116741, 40.08942063918273, 38.832106092244565, 38.67917770933314, 40.2097491005714, 42.534061830002074, 24.90687968406408, 24.78503331847681, 31.534096901432218, 33.18436328145066, 34.26175984521746, 39.5, 42.18909011866299, 39.14766615955581, 40.12789578157873, 40.401867651150454, 40.39325920234814, 51.469851420659, 46.75056643560581, 57.01033010656862], \"name\": \"Mustard Greens\"}], {\"title\": \"Average Price comparison for Collard Greens vs Kale vs Spinach vs Mustard Greens\", \"showlegend\": true}, {\"showLink\": true, \"linkText\": \"Export to plot.ly\"})});</script>"
      ]
     },
     "metadata": {},
     "output_type": "display_data"
    }
   ],
   "source": [
    "import plotly.plotly as py\n",
    "import plotly.graph_objs as go\n",
    "\n",
    "plotly.offline.init_notebook_mode(connected=True)\n",
    "\n",
    "year_co = fresh_df.iloc[282:302]['Year'] # collard greens\n",
    "dollr_co = fresh_df.iloc[282:302]['Constant_2009_Dollars'] # collard greens\n",
    "dollr_ka = fresh_df.iloc[522:542]['Constant_2009_Dollars'] # kale\n",
    "dollr_mg = fresh_df.iloc[588:608]['Constant_2009_Dollars'] # mustard greens\n",
    "dollr_sp = fresh_df.iloc[749:796]['Constant_2009_Dollars'] # spinach\n",
    "\n",
    "plotly.offline.iplot({\n",
    "    \"data\": [\n",
    "        Scatter(x=year_co, y=dollr_co, name ='Collard Greens'), \n",
    "        Scatter(x=year_co, y=dollr_ka, name ='Kale'),\n",
    "        Scatter(x=year_co, y=dollr_mg, name ='Spinach'),\n",
    "        Scatter(x=year_co, y=dollr_sp, name ='Mustard Greens'),\n",
    "    ],\n",
    "    \"layout\": Layout(title=\"Average Price comparison for Collard Greens vs Kale vs Spinach vs Mustard Greens\", showlegend=True\n",
    "   )})"
   ]
  },
  {
   "cell_type": "markdown",
   "metadata": {},
   "source": [
    "The above plot depicts few of the most in demand leafy vegetables for healthier diet. On comparing there average price index, it shows that although the prices has been fluctuating over the years for all the leafy vegetables, but they have reached closer in their average price in 2017.\n",
    "\n",
    "Collard Greens has seen sharp increase in price in 2016 and tremendous decline in 2017. The reason for the spike in Collard Greens price in 2016 can be referred to the sharp decline in production as can be seen in below plot."
   ]
  },
  {
   "cell_type": "markdown",
   "metadata": {},
   "source": [
    "<a id='4.5'></a>\n",
    "#### 4.5  Plot the Production comparison for Collard Greens vs Kale vs Spinach vs Mustard Greens"
   ]
  },
  {
   "cell_type": "code",
   "execution_count": 122,
   "metadata": {},
   "outputs": [
    {
     "data": {
      "text/html": [
       "<script>requirejs.config({paths: { 'plotly': ['https://cdn.plot.ly/plotly-latest.min']},});if(!window.Plotly) {{require(['plotly'],function(plotly) {window.Plotly=plotly;});}}</script>"
      ],
      "text/vnd.plotly.v1+html": [
       "<script>requirejs.config({paths: { 'plotly': ['https://cdn.plot.ly/plotly-latest.min']},});if(!window.Plotly) {{require(['plotly'],function(plotly) {window.Plotly=plotly;});}}</script>"
      ]
     },
     "metadata": {},
     "output_type": "display_data"
    },
    {
     "data": {
      "application/vnd.plotly.v1+json": {
       "data": [
        {
         "name": "Collard Greens",
         "type": "scatter",
         "x": [
          1998,
          1999,
          2000,
          2001,
          2002,
          2003,
          2004,
          2005,
          2006,
          2007,
          2008,
          2009,
          2010,
          2011,
          2012,
          2013,
          2014,
          2015,
          2016,
          2017
         ],
         "y": [
          216.39800000000002,
          216.84000000000003,
          217.28200000000004,
          217.72400000000005,
          218.166,
          251.91216553595655,
          248.2612645861601,
          218.75803799185888,
          192.807039348711,
          204.2586,
          212.27606399999996,
          217.15108799999996,
          288.1293407999999,
          272.45325799999995,
          346.083948,
          401.589888,
          489.09057119999994,
          417.3887535999999,
          352.7385624,
          359.1939539999991
         ]
        },
        {
         "name": "Kale",
         "type": "scatter",
         "x": [
          1998,
          1999,
          2000,
          2001,
          2002,
          2003,
          2004,
          2005,
          2006,
          2007,
          2008,
          2009,
          2010,
          2011,
          2012,
          2013,
          2014,
          2015,
          2016,
          2017
         ],
         "y": [
          106.60810000000002,
          102.62320000000003,
          98.63830000000002,
          94.65340000000002,
          90.6685,
          80.18872,
          85.93894,
          96.72096000000002,
          88.01743200000003,
          93.53948000000001,
          107.513952,
          120.60845599999999,
          137.20476799999997,
          155.76862399999996,
          140.50976000000003,
          169.856688,
          155.102928,
          176.32171199999996,
          162.27987199999998,
          162.1827200000012
         ]
        },
        {
         "name": "Spinach",
         "type": "scatter",
         "x": [
          1998,
          1999,
          2000,
          2001,
          2002,
          2003,
          2004,
          2005,
          2006,
          2007,
          2008,
          2009,
          2010,
          2011,
          2012,
          2013,
          2014,
          2015,
          2016,
          2017
         ],
         "y": [
          63.3,
          59.4,
          62.8,
          60.7,
          62.9,
          68.5,
          83.6,
          91.5,
          106.4,
          118.7,
          142.6,
          146.7,
          140.8,
          146.4,
          181.7,
          166.4,
          166.2,
          174.8,
          182.6,
          213,
          228.5,
          235.1,
          197.6,
          223,
          203.6,
          193.4,
          326.5,
          296,
          305.7,
          423.9,
          345.8,
          462.5,
          508.9,
          575.6,
          709.6,
          604.5,
          507.9,
          551.9,
          669.9,
          564.8,
          601,
          536,
          561.9,
          591.9,
          607.6,
          649.38,
          602.63
         ]
        },
        {
         "name": "Mustard Greens",
         "type": "scatter",
         "x": [
          1998,
          1999,
          2000,
          2001,
          2002,
          2003,
          2004,
          2005,
          2006,
          2007,
          2008,
          2009,
          2010,
          2011,
          2012,
          2013,
          2014,
          2015,
          2016,
          2017
         ],
         "y": [
          188.14752,
          191.21184,
          206.53343999999998,
          221.85503999999997,
          200.4048,
          231.40364287652642,
          228.04996689280867,
          200.94863934871097,
          152.13100250000005,
          118.51952,
          98.12948,
          94.71835999999999,
          95.348708,
          92.507064,
          74.236,
          69.510884,
          124.13309999999998,
          87.519556,
          71.42117999999998,
          78.81501999999999
         ]
        }
       ],
       "layout": {
        "showlegend": true,
        "title": "Production Comparison (in million pounds) - Collard Greens vs Kale vs Spinach vs Mustard Greens"
       }
      },
      "text/html": [
       "<div id=\"223212f5-d157-43a7-ab32-a2071f771d00\" style=\"height: 525px; width: 100%;\" class=\"plotly-graph-div\"></div><script type=\"text/javascript\">require([\"plotly\"], function(Plotly) { window.PLOTLYENV=window.PLOTLYENV || {};window.PLOTLYENV.BASE_URL=\"https://plot.ly\";Plotly.newPlot(\"223212f5-d157-43a7-ab32-a2071f771d00\", [{\"type\": \"scatter\", \"x\": [1998, 1999, 2000, 2001, 2002, 2003, 2004, 2005, 2006, 2007, 2008, 2009, 2010, 2011, 2012, 2013, 2014, 2015, 2016, 2017], \"y\": [216.39800000000002, 216.84000000000003, 217.28200000000004, 217.72400000000005, 218.166, 251.91216553595655, 248.2612645861601, 218.75803799185888, 192.807039348711, 204.2586, 212.27606399999996, 217.15108799999996, 288.1293407999999, 272.45325799999995, 346.083948, 401.589888, 489.09057119999994, 417.3887535999999, 352.7385624, 359.1939539999991], \"name\": \"Collard Greens\"}, {\"type\": \"scatter\", \"x\": [1998, 1999, 2000, 2001, 2002, 2003, 2004, 2005, 2006, 2007, 2008, 2009, 2010, 2011, 2012, 2013, 2014, 2015, 2016, 2017], \"y\": [106.60810000000002, 102.62320000000003, 98.63830000000002, 94.65340000000002, 90.6685, 80.18872, 85.93894, 96.72096000000002, 88.01743200000003, 93.53948000000001, 107.513952, 120.60845599999999, 137.20476799999997, 155.76862399999996, 140.50976000000003, 169.856688, 155.102928, 176.32171199999996, 162.27987199999998, 162.1827200000012], \"name\": \"Kale\"}, {\"type\": \"scatter\", \"x\": [1998, 1999, 2000, 2001, 2002, 2003, 2004, 2005, 2006, 2007, 2008, 2009, 2010, 2011, 2012, 2013, 2014, 2015, 2016, 2017], \"y\": [63.3, 59.4, 62.8, 60.7, 62.9, 68.5, 83.6, 91.5, 106.4, 118.7, 142.6, 146.7, 140.8, 146.4, 181.7, 166.4, 166.2, 174.8, 182.6, 213.0, 228.5, 235.1, 197.6, 223.0, 203.6, 193.4, 326.5, 296.0, 305.7, 423.9, 345.8, 462.5, 508.9, 575.6, 709.6, 604.5, 507.9, 551.9, 669.9, 564.8, 601.0, 536.0, 561.9, 591.9, 607.6, 649.38, 602.63], \"name\": \"Spinach\"}, {\"type\": \"scatter\", \"x\": [1998, 1999, 2000, 2001, 2002, 2003, 2004, 2005, 2006, 2007, 2008, 2009, 2010, 2011, 2012, 2013, 2014, 2015, 2016, 2017], \"y\": [188.14752, 191.21184, 206.53343999999998, 221.85503999999997, 200.4048, 231.40364287652642, 228.04996689280867, 200.94863934871097, 152.13100250000005, 118.51952, 98.12948, 94.71835999999999, 95.348708, 92.507064, 74.236, 69.510884, 124.13309999999998, 87.519556, 71.42117999999998, 78.81501999999999], \"name\": \"Mustard Greens\"}], {\"title\": \"Production Comparison (in million pounds) - Collard Greens vs Kale vs Spinach vs Mustard Greens\", \"showlegend\": true}, {\"showLink\": true, \"linkText\": \"Export to plot.ly\"})});</script>"
      ],
      "text/vnd.plotly.v1+html": [
       "<div id=\"223212f5-d157-43a7-ab32-a2071f771d00\" style=\"height: 525px; width: 100%;\" class=\"plotly-graph-div\"></div><script type=\"text/javascript\">require([\"plotly\"], function(Plotly) { window.PLOTLYENV=window.PLOTLYENV || {};window.PLOTLYENV.BASE_URL=\"https://plot.ly\";Plotly.newPlot(\"223212f5-d157-43a7-ab32-a2071f771d00\", [{\"type\": \"scatter\", \"x\": [1998, 1999, 2000, 2001, 2002, 2003, 2004, 2005, 2006, 2007, 2008, 2009, 2010, 2011, 2012, 2013, 2014, 2015, 2016, 2017], \"y\": [216.39800000000002, 216.84000000000003, 217.28200000000004, 217.72400000000005, 218.166, 251.91216553595655, 248.2612645861601, 218.75803799185888, 192.807039348711, 204.2586, 212.27606399999996, 217.15108799999996, 288.1293407999999, 272.45325799999995, 346.083948, 401.589888, 489.09057119999994, 417.3887535999999, 352.7385624, 359.1939539999991], \"name\": \"Collard Greens\"}, {\"type\": \"scatter\", \"x\": [1998, 1999, 2000, 2001, 2002, 2003, 2004, 2005, 2006, 2007, 2008, 2009, 2010, 2011, 2012, 2013, 2014, 2015, 2016, 2017], \"y\": [106.60810000000002, 102.62320000000003, 98.63830000000002, 94.65340000000002, 90.6685, 80.18872, 85.93894, 96.72096000000002, 88.01743200000003, 93.53948000000001, 107.513952, 120.60845599999999, 137.20476799999997, 155.76862399999996, 140.50976000000003, 169.856688, 155.102928, 176.32171199999996, 162.27987199999998, 162.1827200000012], \"name\": \"Kale\"}, {\"type\": \"scatter\", \"x\": [1998, 1999, 2000, 2001, 2002, 2003, 2004, 2005, 2006, 2007, 2008, 2009, 2010, 2011, 2012, 2013, 2014, 2015, 2016, 2017], \"y\": [63.3, 59.4, 62.8, 60.7, 62.9, 68.5, 83.6, 91.5, 106.4, 118.7, 142.6, 146.7, 140.8, 146.4, 181.7, 166.4, 166.2, 174.8, 182.6, 213.0, 228.5, 235.1, 197.6, 223.0, 203.6, 193.4, 326.5, 296.0, 305.7, 423.9, 345.8, 462.5, 508.9, 575.6, 709.6, 604.5, 507.9, 551.9, 669.9, 564.8, 601.0, 536.0, 561.9, 591.9, 607.6, 649.38, 602.63], \"name\": \"Spinach\"}, {\"type\": \"scatter\", \"x\": [1998, 1999, 2000, 2001, 2002, 2003, 2004, 2005, 2006, 2007, 2008, 2009, 2010, 2011, 2012, 2013, 2014, 2015, 2016, 2017], \"y\": [188.14752, 191.21184, 206.53343999999998, 221.85503999999997, 200.4048, 231.40364287652642, 228.04996689280867, 200.94863934871097, 152.13100250000005, 118.51952, 98.12948, 94.71835999999999, 95.348708, 92.507064, 74.236, 69.510884, 124.13309999999998, 87.519556, 71.42117999999998, 78.81501999999999], \"name\": \"Mustard Greens\"}], {\"title\": \"Production Comparison (in million pounds) - Collard Greens vs Kale vs Spinach vs Mustard Greens\", \"showlegend\": true}, {\"showLink\": true, \"linkText\": \"Export to plot.ly\"})});</script>"
      ]
     },
     "metadata": {},
     "output_type": "display_data"
    }
   ],
   "source": [
    "plotly.offline.init_notebook_mode(connected=True)\n",
    "\n",
    "year_co = fresh_df.iloc[282:302]['Year'] # collard greens\n",
    "prod_co = fresh_df.iloc[282:302]['Production'] # collard greens\n",
    "prod_ka = fresh_df.iloc[522:542]['Production'] # Kale\n",
    "prod_mg = fresh_df.iloc[588:608]['Production'] # mustard greens\n",
    "prod_sp = fresh_df.iloc[749:796]['Production'] # spinach\n",
    "\n",
    "plotly.offline.iplot({\n",
    "    \"data\": [\n",
    "        Scatter(x=year_co, y=prod_co, name ='Collard Greens'), \n",
    "        Scatter(x=year_co, y=prod_ka, name ='Kale'),\n",
    "        Scatter(x=year_co, y=prod_sp, name ='Spinach'),\n",
    "        Scatter(x=year_co, y=prod_mg, name ='Mustard Greens')\n",
    "   ],\n",
    "    \"layout\": Layout(\n",
    "        title=\"Production Comparison (in million pounds) - Collard Greens vs Kale vs Spinach vs Mustard Greens\",\n",
    "        showlegend=True\n",
    "   )})"
   ]
  },
  {
   "cell_type": "markdown",
   "metadata": {},
   "source": [
    " The above plot is showing the production quantity comparison of the 4 leafy vegetables. Kale and Spinach has seen increased demand in last few years and hence the production has also increased."
   ]
  },
  {
   "cell_type": "markdown",
   "metadata": {},
   "source": [
    "<a id='4.6'></a>\n",
    "#### 4.6  Plot the Production vs Import vs Average Price of Asparagus"
   ]
  },
  {
   "cell_type": "code",
   "execution_count": 123,
   "metadata": {},
   "outputs": [
    {
     "data": {
      "text/html": [
       "<script>requirejs.config({paths: { 'plotly': ['https://cdn.plot.ly/plotly-latest.min']},});if(!window.Plotly) {{require(['plotly'],function(plotly) {window.Plotly=plotly;});}}</script>"
      ],
      "text/vnd.plotly.v1+html": [
       "<script>requirejs.config({paths: { 'plotly': ['https://cdn.plot.ly/plotly-latest.min']},});if(!window.Plotly) {{require(['plotly'],function(plotly) {window.Plotly=plotly;});}}</script>"
      ]
     },
     "metadata": {},
     "output_type": "display_data"
    },
    {
     "data": {
      "application/vnd.plotly.v1+json": {
       "data": [
        {
         "marker": {
          "color": "#F1948A"
         },
         "name": "Production",
         "type": "bar",
         "x": [
          1971,
          1972,
          1973,
          1974,
          1975,
          1976,
          1977,
          1978,
          1979,
          1980,
          1981,
          1982,
          1983,
          1984,
          1985,
          1986,
          1987,
          1988,
          1989,
          1990,
          1991,
          1992,
          1993,
          1994,
          1995,
          1996,
          1997,
          1998,
          1999,
          2000,
          2001,
          2002,
          2003,
          2004,
          2005,
          2006,
          2007,
          2008,
          2009,
          2010,
          2011,
          2012,
          2013,
          2014,
          2015,
          2016,
          2017
         ],
         "y": [
          85.8,
          94.7,
          88,
          84.9,
          91.5,
          96.2110983981693,
          76.7385583524027,
          71.7,
          64.8,
          78.9,
          82.1,
          89.4,
          98,
          104.3,
          115.2,
          138.7,
          138.8,
          148.1,
          149.2,
          142.4,
          137,
          137.6,
          125.2,
          131.1,
          110,
          111.4,
          124.8,
          126.4,
          145.5,
          150.4,
          137.2,
          126.7,
          119.4,
          152.4,
          114.4,
          91.1,
          92.7,
          71.8,
          70.3,
          67.9,
          65,
          62,
          62,
          56.8,
          47.4,
          58.5,
          51.95
         ]
        },
        {
         "marker": {
          "color": "#A2D5F2"
         },
         "name": "Imports",
         "type": "bar",
         "x": [
          1971,
          1972,
          1973,
          1974,
          1975,
          1976,
          1977,
          1978,
          1979,
          1980,
          1981,
          1982,
          1983,
          1984,
          1985,
          1986,
          1987,
          1988,
          1989,
          1990,
          1991,
          1992,
          1993,
          1994,
          1995,
          1996,
          1997,
          1998,
          1999,
          2000,
          2001,
          2002,
          2003,
          2004,
          2005,
          2006,
          2007,
          2008,
          2009,
          2010,
          2011,
          2012,
          2013,
          2014,
          2015,
          2016,
          2017
         ],
         "y": [
          0,
          0,
          7.289,
          9.109,
          8.485,
          8.245,
          7.093,
          5.038,
          6.7,
          7.242,
          8.763,
          16.131,
          20.232,
          14.308,
          18.034,
          24.05,
          28.4,
          32.343,
          34.485503,
          43.77925,
          52.436748,
          57.707263,
          69.31074,
          64.816411,
          79.126,
          76.135419,
          88.642881,
          109.84496499999999,
          142.284867,
          159.37884058000003,
          156.83659846,
          180.25314836,
          212.62347359,
          203.71777,
          238.799577,
          265.252923,
          273.46608691999995,
          308.262354,
          343.999,
          377.1893661496401,
          385.08101949240006,
          413.66339529746,
          402.0378872917,
          486.83222423990003,
          431.32896024196015,
          473.30358904224,
          502.41220984592013
         ]
        },
        {
         "marker": {
          "color": "#59606D"
         },
         "name": "Dollar",
         "type": "bar",
         "x": [
          1971,
          1972,
          1973,
          1974,
          1975,
          1976,
          1977,
          1978,
          1979,
          1980,
          1981,
          1982,
          1983,
          1984,
          1985,
          1986,
          1987,
          1988,
          1989,
          1990,
          1991,
          1992,
          1993,
          1994,
          1995,
          1996,
          1997,
          1998,
          1999,
          2000,
          2001,
          2002,
          2003,
          2004,
          2005,
          2006,
          2007,
          2008,
          2009,
          2010,
          2011,
          2012,
          2013,
          2014,
          2015,
          2016,
          2017
         ],
         "y": [
          121.84944082790854,
          106.77864427114577,
          117.95494197071987,
          116.23860235261361,
          108.29749960184742,
          115.03970530511187,
          133.62522389332727,
          138.6712004888027,
          158.03680981595093,
          130.78221722003377,
          145.14535123116195,
          0,
          0,
          132.73300315173347,
          138.38958500575896,
          120.77046768620205,
          109.42634572720145,
          113.62171222279525,
          105.80204778156998,
          102.62547684942777,
          114.23359249446206,
          130.23045127682462,
          132.31939163498097,
          135.38211602247344,
          149.85544916850117,
          120.99032337887294,
          138.29133374308543,
          157.0733684637211,
          163.60480073934386,
          142.87284316957906,
          167.13224936131604,
          129.3296023702589,
          121.03188325610346,
          91.21303235650495,
          95.00929438749444,
          93.75856904807105,
          101.60784918066472,
          103.79297835462937,
          108,
          120.54025748189426,
          118.21819978875764,
          111.25506650342918,
          122.51492273844234,
          97.53269875737821,
          105.67261530613175,
          103.19222917648115,
          104.29796825697825
         ]
        }
       ],
       "layout": {
        "title": "Production vs Import vs Average Price of Asparagus",
        "xaxis": {
         "title": "Asparagus"
        },
        "yaxis": {
         "title": "Quantity (in million pounds)"
        }
       }
      },
      "text/html": [
       "<div id=\"bc64eafd-4f83-4bea-897a-19c9d4830ae3\" style=\"height: 525px; width: 100%;\" class=\"plotly-graph-div\"></div><script type=\"text/javascript\">require([\"plotly\"], function(Plotly) { window.PLOTLYENV=window.PLOTLYENV || {};window.PLOTLYENV.BASE_URL=\"https://plot.ly\";Plotly.newPlot(\"bc64eafd-4f83-4bea-897a-19c9d4830ae3\", [{\"type\": \"bar\", \"x\": [1971, 1972, 1973, 1974, 1975, 1976, 1977, 1978, 1979, 1980, 1981, 1982, 1983, 1984, 1985, 1986, 1987, 1988, 1989, 1990, 1991, 1992, 1993, 1994, 1995, 1996, 1997, 1998, 1999, 2000, 2001, 2002, 2003, 2004, 2005, 2006, 2007, 2008, 2009, 2010, 2011, 2012, 2013, 2014, 2015, 2016, 2017], \"y\": [85.8, 94.7, 88.0, 84.9, 91.5, 96.2110983981693, 76.7385583524027, 71.7, 64.8, 78.9, 82.1, 89.4, 98.0, 104.3, 115.2, 138.7, 138.8, 148.1, 149.2, 142.4, 137.0, 137.6, 125.2, 131.1, 110.0, 111.4, 124.8, 126.4, 145.5, 150.4, 137.2, 126.7, 119.4, 152.4, 114.4, 91.1, 92.7, 71.8, 70.3, 67.9, 65.0, 62.0, 62.0, 56.8, 47.4, 58.5, 51.95], \"name\": \"Production\", \"marker\": {\"color\": \"#F1948A\"}}, {\"type\": \"bar\", \"x\": [1971, 1972, 1973, 1974, 1975, 1976, 1977, 1978, 1979, 1980, 1981, 1982, 1983, 1984, 1985, 1986, 1987, 1988, 1989, 1990, 1991, 1992, 1993, 1994, 1995, 1996, 1997, 1998, 1999, 2000, 2001, 2002, 2003, 2004, 2005, 2006, 2007, 2008, 2009, 2010, 2011, 2012, 2013, 2014, 2015, 2016, 2017], \"y\": [0.0, 0.0, 7.289, 9.109, 8.485, 8.245, 7.093, 5.038, 6.7, 7.242, 8.763, 16.131, 20.232, 14.308, 18.034, 24.05, 28.4, 32.343, 34.485503, 43.77925, 52.436748, 57.707263, 69.31074, 64.816411, 79.126, 76.135419, 88.642881, 109.84496499999999, 142.284867, 159.37884058000003, 156.83659846, 180.25314836, 212.62347359, 203.71777, 238.799577, 265.252923, 273.46608691999995, 308.262354, 343.999, 377.1893661496401, 385.08101949240006, 413.66339529746, 402.0378872917, 486.83222423990003, 431.32896024196015, 473.30358904224, 502.41220984592013], \"name\": \"Imports\", \"marker\": {\"color\": \"#A2D5F2\"}}, {\"type\": \"bar\", \"x\": [1971, 1972, 1973, 1974, 1975, 1976, 1977, 1978, 1979, 1980, 1981, 1982, 1983, 1984, 1985, 1986, 1987, 1988, 1989, 1990, 1991, 1992, 1993, 1994, 1995, 1996, 1997, 1998, 1999, 2000, 2001, 2002, 2003, 2004, 2005, 2006, 2007, 2008, 2009, 2010, 2011, 2012, 2013, 2014, 2015, 2016, 2017], \"y\": [121.84944082790854, 106.77864427114577, 117.95494197071987, 116.23860235261361, 108.29749960184742, 115.03970530511187, 133.62522389332727, 138.6712004888027, 158.03680981595093, 130.78221722003377, 145.14535123116195, 0, 0, 132.73300315173347, 138.38958500575896, 120.77046768620205, 109.42634572720145, 113.62171222279525, 105.80204778156998, 102.62547684942777, 114.23359249446206, 130.23045127682462, 132.31939163498097, 135.38211602247344, 149.85544916850117, 120.99032337887294, 138.29133374308543, 157.0733684637211, 163.60480073934386, 142.87284316957906, 167.13224936131604, 129.3296023702589, 121.03188325610346, 91.21303235650495, 95.00929438749444, 93.75856904807105, 101.60784918066472, 103.79297835462937, 108, 120.54025748189426, 118.21819978875764, 111.25506650342918, 122.51492273844234, 97.53269875737821, 105.67261530613175, 103.19222917648115, 104.29796825697825], \"name\": \"Dollar\", \"marker\": {\"color\": \"#59606D\"}}], {\"title\": \"Production vs Import vs Average Price of Asparagus\", \"xaxis\": {\"title\": \"Asparagus\"}, \"yaxis\": {\"title\": \"Quantity (in million pounds)\"}}, {\"showLink\": true, \"linkText\": \"Export to plot.ly\"})});</script>"
      ],
      "text/vnd.plotly.v1+html": [
       "<div id=\"bc64eafd-4f83-4bea-897a-19c9d4830ae3\" style=\"height: 525px; width: 100%;\" class=\"plotly-graph-div\"></div><script type=\"text/javascript\">require([\"plotly\"], function(Plotly) { window.PLOTLYENV=window.PLOTLYENV || {};window.PLOTLYENV.BASE_URL=\"https://plot.ly\";Plotly.newPlot(\"bc64eafd-4f83-4bea-897a-19c9d4830ae3\", [{\"type\": \"bar\", \"x\": [1971, 1972, 1973, 1974, 1975, 1976, 1977, 1978, 1979, 1980, 1981, 1982, 1983, 1984, 1985, 1986, 1987, 1988, 1989, 1990, 1991, 1992, 1993, 1994, 1995, 1996, 1997, 1998, 1999, 2000, 2001, 2002, 2003, 2004, 2005, 2006, 2007, 2008, 2009, 2010, 2011, 2012, 2013, 2014, 2015, 2016, 2017], \"y\": [85.8, 94.7, 88.0, 84.9, 91.5, 96.2110983981693, 76.7385583524027, 71.7, 64.8, 78.9, 82.1, 89.4, 98.0, 104.3, 115.2, 138.7, 138.8, 148.1, 149.2, 142.4, 137.0, 137.6, 125.2, 131.1, 110.0, 111.4, 124.8, 126.4, 145.5, 150.4, 137.2, 126.7, 119.4, 152.4, 114.4, 91.1, 92.7, 71.8, 70.3, 67.9, 65.0, 62.0, 62.0, 56.8, 47.4, 58.5, 51.95], \"name\": \"Production\", \"marker\": {\"color\": \"#F1948A\"}}, {\"type\": \"bar\", \"x\": [1971, 1972, 1973, 1974, 1975, 1976, 1977, 1978, 1979, 1980, 1981, 1982, 1983, 1984, 1985, 1986, 1987, 1988, 1989, 1990, 1991, 1992, 1993, 1994, 1995, 1996, 1997, 1998, 1999, 2000, 2001, 2002, 2003, 2004, 2005, 2006, 2007, 2008, 2009, 2010, 2011, 2012, 2013, 2014, 2015, 2016, 2017], \"y\": [0.0, 0.0, 7.289, 9.109, 8.485, 8.245, 7.093, 5.038, 6.7, 7.242, 8.763, 16.131, 20.232, 14.308, 18.034, 24.05, 28.4, 32.343, 34.485503, 43.77925, 52.436748, 57.707263, 69.31074, 64.816411, 79.126, 76.135419, 88.642881, 109.84496499999999, 142.284867, 159.37884058000003, 156.83659846, 180.25314836, 212.62347359, 203.71777, 238.799577, 265.252923, 273.46608691999995, 308.262354, 343.999, 377.1893661496401, 385.08101949240006, 413.66339529746, 402.0378872917, 486.83222423990003, 431.32896024196015, 473.30358904224, 502.41220984592013], \"name\": \"Imports\", \"marker\": {\"color\": \"#A2D5F2\"}}, {\"type\": \"bar\", \"x\": [1971, 1972, 1973, 1974, 1975, 1976, 1977, 1978, 1979, 1980, 1981, 1982, 1983, 1984, 1985, 1986, 1987, 1988, 1989, 1990, 1991, 1992, 1993, 1994, 1995, 1996, 1997, 1998, 1999, 2000, 2001, 2002, 2003, 2004, 2005, 2006, 2007, 2008, 2009, 2010, 2011, 2012, 2013, 2014, 2015, 2016, 2017], \"y\": [121.84944082790854, 106.77864427114577, 117.95494197071987, 116.23860235261361, 108.29749960184742, 115.03970530511187, 133.62522389332727, 138.6712004888027, 158.03680981595093, 130.78221722003377, 145.14535123116195, 0, 0, 132.73300315173347, 138.38958500575896, 120.77046768620205, 109.42634572720145, 113.62171222279525, 105.80204778156998, 102.62547684942777, 114.23359249446206, 130.23045127682462, 132.31939163498097, 135.38211602247344, 149.85544916850117, 120.99032337887294, 138.29133374308543, 157.0733684637211, 163.60480073934386, 142.87284316957906, 167.13224936131604, 129.3296023702589, 121.03188325610346, 91.21303235650495, 95.00929438749444, 93.75856904807105, 101.60784918066472, 103.79297835462937, 108, 120.54025748189426, 118.21819978875764, 111.25506650342918, 122.51492273844234, 97.53269875737821, 105.67261530613175, 103.19222917648115, 104.29796825697825], \"name\": \"Dollar\", \"marker\": {\"color\": \"#59606D\"}}], {\"title\": \"Production vs Import vs Average Price of Asparagus\", \"xaxis\": {\"title\": \"Asparagus\"}, \"yaxis\": {\"title\": \"Quantity (in million pounds)\"}}, {\"showLink\": true, \"linkText\": \"Export to plot.ly\"})});</script>"
      ]
     },
     "metadata": {},
     "output_type": "display_data"
    }
   ],
   "source": [
    "plotly.offline.init_notebook_mode(connected=True)\n",
    "\n",
    "year_as = fresh_df.iloc[47:94]['Year'] # asparagus\n",
    "dollr_as = fresh_df.iloc[47:94]['Constant_2009_Dollars'] # asparagus\n",
    "prod_as = fresh_df.iloc[47:94]['Production'] # asparagus\n",
    "import_as = fresh_df.iloc[47:94]['Imports'] # asparagus\n",
    "\n",
    "trace_prod = Bar(x=year_as,\n",
    "                  y=prod_as,\n",
    "                  name='Production',\n",
    "                  marker=dict(color='#F1948A'))\n",
    "\n",
    "trace_import = Bar(x=year_as,\n",
    "                y=import_as,\n",
    "                name='Imports',\n",
    "                marker=dict(color='#A2D5F2'))\n",
    "\n",
    "trace_dollar = Bar(x=year_as,\n",
    "                y=dollr_as,\n",
    "                name='Dollar',\n",
    "                marker=dict(color='#59606D'))\n",
    "\n",
    "data = [trace_prod, trace_import, trace_dollar]\n",
    "layout = Layout(title=\"Production vs Import vs Average Price of Asparagus\",\n",
    "                xaxis=dict(title='Asparagus'),\n",
    "                yaxis=dict(title='Quantity (in million pounds)'))\n",
    "fig = Figure(data=data, layout=layout)\n",
    "\n",
    "plotly.offline.iplot(fig, filename='jupyter/styled_bar')"
   ]
  },
  {
   "cell_type": "markdown",
   "metadata": {},
   "source": [
    "As the consumers are moving towards healthier diets, asparagus is one of the key part of it. But since the last decade, with some of the biggest draught in California, one of the country's centre of asparagus farming, domestic production has took a hit.\n",
    "\n",
    "There has been an a significant increase in the import of asparagus since 2005, much of which comes from Latin America, hereby keeping the price consistent and without much fluctuations.\n",
    "\n",
    "source:https://www.huffingtonpost.com/2015/04/10/asparagus-farms-california_n_7029836.html"
   ]
  },
  {
   "cell_type": "markdown",
   "metadata": {},
   "source": [
    "<a id='4.7'></a>\n",
    "#### 4.7 Plot the U.S. fresh market vegetables supply utilization"
   ]
  },
  {
   "cell_type": "code",
   "execution_count": 124,
   "metadata": {},
   "outputs": [
    {
     "data": {
      "text/html": [
       "<script>requirejs.config({paths: { 'plotly': ['https://cdn.plot.ly/plotly-latest.min']},});if(!window.Plotly) {{require(['plotly'],function(plotly) {window.Plotly=plotly;});}}</script>"
      ],
      "text/vnd.plotly.v1+html": [
       "<script>requirejs.config({paths: { 'plotly': ['https://cdn.plot.ly/plotly-latest.min']},});if(!window.Plotly) {{require(['plotly'],function(plotly) {window.Plotly=plotly;});}}</script>"
      ]
     },
     "metadata": {},
     "output_type": "display_data"
    },
    {
     "data": {
      "application/vnd.plotly.v1+json": {
       "data": [
        {
         "line": {
          "color": "#FFD700",
          "width": 3
         },
         "name": "Production",
         "type": "scatter",
         "x": [
          1971,
          1972,
          1973,
          1974,
          1975,
          1976,
          1977,
          1978,
          1979,
          1980,
          1981,
          1982,
          1983,
          1984,
          1985,
          1986,
          1987,
          1988,
          1989,
          1990,
          1991,
          1992,
          1993,
          1994,
          1995,
          1996,
          1997,
          1998,
          1999,
          2000,
          2001,
          2002,
          2003,
          2004,
          2005,
          2006,
          2007,
          2008,
          2009,
          2010,
          2011,
          2012,
          2013,
          2014,
          2015,
          2016,
          2017
         ],
         "y": [
          17999.972,
          18564.484,
          19053.501999999997,
          19587.131,
          19720.081,
          20651.154098398172,
          20536.489558352405,
          20877.472,
          21491.585950000008,
          21899.8689,
          22286.56985,
          23227.528,
          22584.903599999998,
          24133.497199999998,
          25309.726800000004,
          24951.9804,
          27171.127,
          28167.344800000003,
          29538.539599999996,
          29877.606719999996,
          29438.976880000002,
          31943.612400000005,
          32966.3983,
          35398.904599999994,
          33260.99116,
          34170.27368,
          37156.0946,
          35726.33882,
          38424.312094853,
          40556.33824,
          39755.45844,
          40156.757,
          40097.20737900093,
          42239.70490030493,
          40331.979913435614,
          40277.49905509751,
          40412.58523821075,
          38820.356895423516,
          38190.36512103482,
          38027.71980412314,
          37544.19967018755,
          38200.17833883193,
          36905.82241637478,
          36897.05554553446,
          35780.5436632432,
          36308.94011824297,
          35683.293337495714
         ]
        },
        {
         "line": {
          "color": "#D0312D",
          "width": 3
         },
         "name": "Imports",
         "type": "scatter",
         "x": [
          1971,
          1972,
          1973,
          1974,
          1975,
          1976,
          1977,
          1978,
          1979,
          1980,
          1981,
          1982,
          1983,
          1984,
          1985,
          1986,
          1987,
          1988,
          1989,
          1990,
          1991,
          1992,
          1993,
          1994,
          1995,
          1996,
          1997,
          1998,
          1999,
          2000,
          2001,
          2002,
          2003,
          2004,
          2005,
          2006,
          2007,
          2008,
          2009,
          2010,
          2011,
          2012,
          2013,
          2014,
          2015,
          2016,
          2017
         ],
         "y": [
          1055.775,
          1112.879,
          1444.4260000000002,
          1155.3743929999998,
          1133.0720000000001,
          1334.646,
          1682.8200000000002,
          1833.1870000000004,
          1774.8850000000002,
          1719.1355000000003,
          1550.5678,
          1719.7087999999999,
          2048.161,
          2478.8927000000003,
          2386.2958,
          2497.1445,
          2683.283,
          2593.316,
          2809.4889620800004,
          3079.4001649687,
          3108.044796088,
          2784.808372637701,
          3649.1046549637,
          3590.4611704336003,
          4312.4559430593,
          5019.387811066799,
          5077.500963332899,
          5892.7846409621,
          5595.959519541,
          5499.2134345123,
          6143.4308823901,
          6607.9702068932,
          7019.564242061,
          7286.503205169898,
          7782.877333266099,
          8231.6522274677,
          8832.566964927304,
          9011.513649359698,
          9312.381083138,
          10931.311812819597,
          11095.513723967297,
          11487.246089873663,
          11979.866688093434,
          12773.017647485189,
          13183.083799220043,
          14610.105830810036,
          14909.884476365394
         ]
        },
        {
         "line": {
          "color": "#0E4C92",
          "width": 3
         },
         "name": "Exports",
         "type": "scatter",
         "x": [
          1971,
          1972,
          1973,
          1974,
          1975,
          1976,
          1977,
          1978,
          1979,
          1980,
          1981,
          1982,
          1983,
          1984,
          1985,
          1986,
          1987,
          1988,
          1989,
          1990,
          1991,
          1992,
          1993,
          1994,
          1995,
          1996,
          1997,
          1998,
          1999,
          2000,
          2001,
          2002,
          2003,
          2004,
          2005,
          2006,
          2007,
          2008,
          2009,
          2010,
          2011,
          2012,
          2013,
          2014,
          2015,
          2016,
          2017
         ],
         "y": [
          828.8233999999999,
          956.9659,
          1031.6461,
          915.4817,
          1054.3782,
          1274.7565,
          1175.6971,
          1700.1464379709,
          1661.9149026472003,
          1817.8810929593797,
          2089.1733493245597,
          1750.42605412746,
          1850.1860424874199,
          1989.2540492256803,
          1859.9932981591403,
          2089.05558817248,
          2135.95522747166,
          2091.49813409746,
          2224.7240603341397,
          2480.418833381,
          2679.4930926835004,
          2895.9692038988,
          2941.2392830686995,
          3326.5633763768997,
          3141.0093143279,
          3160.9002250557996,
          3278.9693939715994,
          3282.9409745775,
          3424.8783404700994,
          3717.677681997401,
          3683.2028750936,
          3712.0956546556,
          3694.5460454000004,
          3753.4380380366,
          3721.3203435585997,
          3474.6245484601004,
          3346.4174262019005,
          3481.5176138471547,
          3244.5037690210274,
          3387.8298379575954,
          3440.968515537687,
          3543.242786698408,
          3490.7309815365365,
          3386.520615360781,
          3068.7938041315333,
          3285.9949542707413,
          3077.937745943128
         ]
        },
        {
         "line": {
          "color": "#000000",
          "width": 3
         },
         "name": "Per Capita Availability",
         "type": "scatter",
         "x": [
          1971,
          1972,
          1973,
          1974,
          1975,
          1976,
          1977,
          1978,
          1979,
          1980,
          1981,
          1982,
          1983,
          1984,
          1985,
          1986,
          1987,
          1988,
          1989,
          1990,
          1991,
          1992,
          1993,
          1994,
          1995,
          1996,
          1997,
          1998,
          1999,
          2000,
          2001,
          2002,
          2003,
          2004,
          2005,
          2006,
          2007,
          2008,
          2009,
          2010,
          2011,
          2012,
          2013,
          2014,
          2015,
          2016,
          2017
         ],
         "y": [
          86.73294927790968,
          88.32965911689598,
          90.27548570376906,
          91.11208437999755,
          90.4907872743352,
          92.85525534156523,
          93.23064697148281,
          91.97965973461419,
          93.34368953079382,
          94.89681155002336,
          93.46540054040788,
          97.27039616979576,
          95.624930358515,
          102.00365499506793,
          105.5194002576504,
          104.07361412097816,
          111.45156081666009,
          115.20165482102574,
          119.75427748520617,
          118.83063075331303,
          115.76605264604743,
          121.29002268927614,
          126.79096467654804,
          131.58818610234252,
          126.67469039916938,
          130.99688618188728,
          139.44810565076398,
          136.03780260538034,
          141.52789943938808,
          146.82031585908553,
          144.5851768951895,
          146.7702224322954,
          146.63285388879027,
          151.35034590499941,
          148.09447701767516,
          148.37989657094374,
          148.06466492787803,
          143.0539971879365,
          141.28827956550657,
          144.68717059714106,
          141.9215175482055,
          144.7446591758432,
          140.8889433782962,
          142.20262136439598,
          141.73800922488164,
          144.4452948688408,
          144.96789675780607
         ]
        }
       ],
       "layout": {
        "title": "U.S. fresh market vegetables supply utilization",
        "updatemenus": [
         {
          "buttons": [
           {
            "args": [
             "visible",
             [
              true,
              true,
              true,
              true
             ]
            ],
            "label": "All",
            "method": "restyle"
           },
           {
            "args": [
             "visible",
             [
              true,
              false,
              false,
              false
             ]
            ],
            "label": "Production",
            "method": "restyle"
           },
           {
            "args": [
             "visible",
             [
              false,
              true,
              false,
              false
             ]
            ],
            "label": "Imports",
            "method": "restyle"
           },
           {
            "args": [
             "visible",
             [
              false,
              false,
              true,
              false
             ]
            ],
            "label": "Exports",
            "method": "restyle"
           },
           {
            "args": [
             "visible",
             [
              false,
              false,
              false,
              true
             ]
            ],
            "label": "Per Capita Availability",
            "method": "restyle"
           }
          ],
          "x": -0.05,
          "y": 1,
          "yanchor": "top"
         }
        ]
       }
      },
      "text/html": [
       "<div id=\"03bc44af-fe65-4801-89ef-51d874f2e990\" style=\"height: 525px; width: 100%;\" class=\"plotly-graph-div\"></div><script type=\"text/javascript\">require([\"plotly\"], function(Plotly) { window.PLOTLYENV=window.PLOTLYENV || {};window.PLOTLYENV.BASE_URL=\"https://plot.ly\";Plotly.newPlot(\"03bc44af-fe65-4801-89ef-51d874f2e990\", [{\"type\": \"scatter\", \"x\": [1971, 1972, 1973, 1974, 1975, 1976, 1977, 1978, 1979, 1980, 1981, 1982, 1983, 1984, 1985, 1986, 1987, 1988, 1989, 1990, 1991, 1992, 1993, 1994, 1995, 1996, 1997, 1998, 1999, 2000, 2001, 2002, 2003, 2004, 2005, 2006, 2007, 2008, 2009, 2010, 2011, 2012, 2013, 2014, 2015, 2016, 2017], \"y\": [17999.972, 18564.484, 19053.501999999997, 19587.131, 19720.081, 20651.154098398172, 20536.489558352405, 20877.472, 21491.585950000008, 21899.8689, 22286.56985, 23227.528, 22584.903599999998, 24133.497199999998, 25309.726800000004, 24951.9804, 27171.127, 28167.344800000003, 29538.539599999996, 29877.606719999996, 29438.976880000002, 31943.612400000005, 32966.3983, 35398.904599999994, 33260.99116, 34170.27368, 37156.0946, 35726.33882, 38424.312094853, 40556.33824, 39755.45844, 40156.757, 40097.20737900093, 42239.70490030493, 40331.979913435614, 40277.49905509751, 40412.58523821075, 38820.356895423516, 38190.36512103482, 38027.71980412314, 37544.19967018755, 38200.17833883193, 36905.82241637478, 36897.05554553446, 35780.5436632432, 36308.94011824297, 35683.293337495714], \"line\": {\"color\": \"#FFD700\", \"width\": 3}, \"name\": \"Production\"}, {\"type\": \"scatter\", \"x\": [1971, 1972, 1973, 1974, 1975, 1976, 1977, 1978, 1979, 1980, 1981, 1982, 1983, 1984, 1985, 1986, 1987, 1988, 1989, 1990, 1991, 1992, 1993, 1994, 1995, 1996, 1997, 1998, 1999, 2000, 2001, 2002, 2003, 2004, 2005, 2006, 2007, 2008, 2009, 2010, 2011, 2012, 2013, 2014, 2015, 2016, 2017], \"y\": [1055.775, 1112.879, 1444.4260000000002, 1155.3743929999998, 1133.0720000000001, 1334.646, 1682.8200000000002, 1833.1870000000004, 1774.8850000000002, 1719.1355000000003, 1550.5678, 1719.7087999999999, 2048.161, 2478.8927000000003, 2386.2958, 2497.1445, 2683.283, 2593.316, 2809.4889620800004, 3079.4001649687, 3108.044796088, 2784.808372637701, 3649.1046549637, 3590.4611704336003, 4312.4559430593, 5019.387811066799, 5077.500963332899, 5892.7846409621, 5595.959519541, 5499.2134345123, 6143.4308823901, 6607.9702068932, 7019.564242061, 7286.503205169898, 7782.877333266099, 8231.6522274677, 8832.566964927304, 9011.513649359698, 9312.381083138, 10931.311812819597, 11095.513723967297, 11487.246089873663, 11979.866688093434, 12773.017647485189, 13183.083799220043, 14610.105830810036, 14909.884476365394], \"line\": {\"color\": \"#D0312D\", \"width\": 3}, \"name\": \"Imports\"}, {\"type\": \"scatter\", \"x\": [1971, 1972, 1973, 1974, 1975, 1976, 1977, 1978, 1979, 1980, 1981, 1982, 1983, 1984, 1985, 1986, 1987, 1988, 1989, 1990, 1991, 1992, 1993, 1994, 1995, 1996, 1997, 1998, 1999, 2000, 2001, 2002, 2003, 2004, 2005, 2006, 2007, 2008, 2009, 2010, 2011, 2012, 2013, 2014, 2015, 2016, 2017], \"y\": [828.8233999999999, 956.9659, 1031.6461, 915.4817, 1054.3782, 1274.7565, 1175.6971, 1700.1464379709, 1661.9149026472003, 1817.8810929593797, 2089.1733493245597, 1750.42605412746, 1850.1860424874199, 1989.2540492256803, 1859.9932981591403, 2089.05558817248, 2135.95522747166, 2091.49813409746, 2224.7240603341397, 2480.418833381, 2679.4930926835004, 2895.9692038988, 2941.2392830686995, 3326.5633763768997, 3141.0093143279, 3160.9002250557996, 3278.9693939715994, 3282.9409745775, 3424.8783404700994, 3717.677681997401, 3683.2028750936, 3712.0956546556, 3694.5460454000004, 3753.4380380366, 3721.3203435585997, 3474.6245484601004, 3346.4174262019005, 3481.5176138471547, 3244.5037690210274, 3387.8298379575954, 3440.968515537687, 3543.242786698408, 3490.7309815365365, 3386.520615360781, 3068.7938041315333, 3285.9949542707413, 3077.937745943128], \"line\": {\"color\": \"#0E4C92\", \"width\": 3}, \"name\": \"Exports\"}, {\"type\": \"scatter\", \"x\": [1971, 1972, 1973, 1974, 1975, 1976, 1977, 1978, 1979, 1980, 1981, 1982, 1983, 1984, 1985, 1986, 1987, 1988, 1989, 1990, 1991, 1992, 1993, 1994, 1995, 1996, 1997, 1998, 1999, 2000, 2001, 2002, 2003, 2004, 2005, 2006, 2007, 2008, 2009, 2010, 2011, 2012, 2013, 2014, 2015, 2016, 2017], \"y\": [86.73294927790968, 88.32965911689598, 90.27548570376906, 91.11208437999755, 90.4907872743352, 92.85525534156523, 93.23064697148281, 91.97965973461419, 93.34368953079382, 94.89681155002336, 93.46540054040788, 97.27039616979576, 95.624930358515, 102.00365499506793, 105.5194002576504, 104.07361412097816, 111.45156081666009, 115.20165482102574, 119.75427748520617, 118.83063075331303, 115.76605264604743, 121.29002268927614, 126.79096467654804, 131.58818610234252, 126.67469039916938, 130.99688618188728, 139.44810565076398, 136.03780260538034, 141.52789943938808, 146.82031585908553, 144.5851768951895, 146.7702224322954, 146.63285388879027, 151.35034590499941, 148.09447701767516, 148.37989657094374, 148.06466492787803, 143.0539971879365, 141.28827956550657, 144.68717059714106, 141.9215175482055, 144.7446591758432, 140.8889433782962, 142.20262136439598, 141.73800922488164, 144.4452948688408, 144.96789675780607], \"line\": {\"color\": \"#000000\", \"width\": 3}, \"name\": \"Per Capita Availability\"}], {\"title\": \"U.S. fresh market vegetables supply utilization\", \"updatemenus\": [{\"x\": -0.05, \"y\": 1, \"yanchor\": \"top\", \"buttons\": [{\"args\": [\"visible\", [true, true, true, true]], \"label\": \"All\", \"method\": \"restyle\"}, {\"args\": [\"visible\", [true, false, false, false]], \"label\": \"Production\", \"method\": \"restyle\"}, {\"args\": [\"visible\", [false, true, false, false]], \"label\": \"Imports\", \"method\": \"restyle\"}, {\"args\": [\"visible\", [false, false, true, false]], \"label\": \"Exports\", \"method\": \"restyle\"}, {\"args\": [\"visible\", [false, false, false, true]], \"label\": \"Per Capita Availability\", \"method\": \"restyle\"}]}]}, {\"showLink\": true, \"linkText\": \"Export to plot.ly\"})});</script>"
      ],
      "text/vnd.plotly.v1+html": [
       "<div id=\"03bc44af-fe65-4801-89ef-51d874f2e990\" style=\"height: 525px; width: 100%;\" class=\"plotly-graph-div\"></div><script type=\"text/javascript\">require([\"plotly\"], function(Plotly) { window.PLOTLYENV=window.PLOTLYENV || {};window.PLOTLYENV.BASE_URL=\"https://plot.ly\";Plotly.newPlot(\"03bc44af-fe65-4801-89ef-51d874f2e990\", [{\"type\": \"scatter\", \"x\": [1971, 1972, 1973, 1974, 1975, 1976, 1977, 1978, 1979, 1980, 1981, 1982, 1983, 1984, 1985, 1986, 1987, 1988, 1989, 1990, 1991, 1992, 1993, 1994, 1995, 1996, 1997, 1998, 1999, 2000, 2001, 2002, 2003, 2004, 2005, 2006, 2007, 2008, 2009, 2010, 2011, 2012, 2013, 2014, 2015, 2016, 2017], \"y\": [17999.972, 18564.484, 19053.501999999997, 19587.131, 19720.081, 20651.154098398172, 20536.489558352405, 20877.472, 21491.585950000008, 21899.8689, 22286.56985, 23227.528, 22584.903599999998, 24133.497199999998, 25309.726800000004, 24951.9804, 27171.127, 28167.344800000003, 29538.539599999996, 29877.606719999996, 29438.976880000002, 31943.612400000005, 32966.3983, 35398.904599999994, 33260.99116, 34170.27368, 37156.0946, 35726.33882, 38424.312094853, 40556.33824, 39755.45844, 40156.757, 40097.20737900093, 42239.70490030493, 40331.979913435614, 40277.49905509751, 40412.58523821075, 38820.356895423516, 38190.36512103482, 38027.71980412314, 37544.19967018755, 38200.17833883193, 36905.82241637478, 36897.05554553446, 35780.5436632432, 36308.94011824297, 35683.293337495714], \"line\": {\"color\": \"#FFD700\", \"width\": 3}, \"name\": \"Production\"}, {\"type\": \"scatter\", \"x\": [1971, 1972, 1973, 1974, 1975, 1976, 1977, 1978, 1979, 1980, 1981, 1982, 1983, 1984, 1985, 1986, 1987, 1988, 1989, 1990, 1991, 1992, 1993, 1994, 1995, 1996, 1997, 1998, 1999, 2000, 2001, 2002, 2003, 2004, 2005, 2006, 2007, 2008, 2009, 2010, 2011, 2012, 2013, 2014, 2015, 2016, 2017], \"y\": [1055.775, 1112.879, 1444.4260000000002, 1155.3743929999998, 1133.0720000000001, 1334.646, 1682.8200000000002, 1833.1870000000004, 1774.8850000000002, 1719.1355000000003, 1550.5678, 1719.7087999999999, 2048.161, 2478.8927000000003, 2386.2958, 2497.1445, 2683.283, 2593.316, 2809.4889620800004, 3079.4001649687, 3108.044796088, 2784.808372637701, 3649.1046549637, 3590.4611704336003, 4312.4559430593, 5019.387811066799, 5077.500963332899, 5892.7846409621, 5595.959519541, 5499.2134345123, 6143.4308823901, 6607.9702068932, 7019.564242061, 7286.503205169898, 7782.877333266099, 8231.6522274677, 8832.566964927304, 9011.513649359698, 9312.381083138, 10931.311812819597, 11095.513723967297, 11487.246089873663, 11979.866688093434, 12773.017647485189, 13183.083799220043, 14610.105830810036, 14909.884476365394], \"line\": {\"color\": \"#D0312D\", \"width\": 3}, \"name\": \"Imports\"}, {\"type\": \"scatter\", \"x\": [1971, 1972, 1973, 1974, 1975, 1976, 1977, 1978, 1979, 1980, 1981, 1982, 1983, 1984, 1985, 1986, 1987, 1988, 1989, 1990, 1991, 1992, 1993, 1994, 1995, 1996, 1997, 1998, 1999, 2000, 2001, 2002, 2003, 2004, 2005, 2006, 2007, 2008, 2009, 2010, 2011, 2012, 2013, 2014, 2015, 2016, 2017], \"y\": [828.8233999999999, 956.9659, 1031.6461, 915.4817, 1054.3782, 1274.7565, 1175.6971, 1700.1464379709, 1661.9149026472003, 1817.8810929593797, 2089.1733493245597, 1750.42605412746, 1850.1860424874199, 1989.2540492256803, 1859.9932981591403, 2089.05558817248, 2135.95522747166, 2091.49813409746, 2224.7240603341397, 2480.418833381, 2679.4930926835004, 2895.9692038988, 2941.2392830686995, 3326.5633763768997, 3141.0093143279, 3160.9002250557996, 3278.9693939715994, 3282.9409745775, 3424.8783404700994, 3717.677681997401, 3683.2028750936, 3712.0956546556, 3694.5460454000004, 3753.4380380366, 3721.3203435585997, 3474.6245484601004, 3346.4174262019005, 3481.5176138471547, 3244.5037690210274, 3387.8298379575954, 3440.968515537687, 3543.242786698408, 3490.7309815365365, 3386.520615360781, 3068.7938041315333, 3285.9949542707413, 3077.937745943128], \"line\": {\"color\": \"#0E4C92\", \"width\": 3}, \"name\": \"Exports\"}, {\"type\": \"scatter\", \"x\": [1971, 1972, 1973, 1974, 1975, 1976, 1977, 1978, 1979, 1980, 1981, 1982, 1983, 1984, 1985, 1986, 1987, 1988, 1989, 1990, 1991, 1992, 1993, 1994, 1995, 1996, 1997, 1998, 1999, 2000, 2001, 2002, 2003, 2004, 2005, 2006, 2007, 2008, 2009, 2010, 2011, 2012, 2013, 2014, 2015, 2016, 2017], \"y\": [86.73294927790968, 88.32965911689598, 90.27548570376906, 91.11208437999755, 90.4907872743352, 92.85525534156523, 93.23064697148281, 91.97965973461419, 93.34368953079382, 94.89681155002336, 93.46540054040788, 97.27039616979576, 95.624930358515, 102.00365499506793, 105.5194002576504, 104.07361412097816, 111.45156081666009, 115.20165482102574, 119.75427748520617, 118.83063075331303, 115.76605264604743, 121.29002268927614, 126.79096467654804, 131.58818610234252, 126.67469039916938, 130.99688618188728, 139.44810565076398, 136.03780260538034, 141.52789943938808, 146.82031585908553, 144.5851768951895, 146.7702224322954, 146.63285388879027, 151.35034590499941, 148.09447701767516, 148.37989657094374, 148.06466492787803, 143.0539971879365, 141.28827956550657, 144.68717059714106, 141.9215175482055, 144.7446591758432, 140.8889433782962, 142.20262136439598, 141.73800922488164, 144.4452948688408, 144.96789675780607], \"line\": {\"color\": \"#000000\", \"width\": 3}, \"name\": \"Per Capita Availability\"}], {\"title\": \"U.S. fresh market vegetables supply utilization\", \"updatemenus\": [{\"x\": -0.05, \"y\": 1, \"yanchor\": \"top\", \"buttons\": [{\"args\": [\"visible\", [true, true, true, true]], \"label\": \"All\", \"method\": \"restyle\"}, {\"args\": [\"visible\", [true, false, false, false]], \"label\": \"Production\", \"method\": \"restyle\"}, {\"args\": [\"visible\", [false, true, false, false]], \"label\": \"Imports\", \"method\": \"restyle\"}, {\"args\": [\"visible\", [false, false, true, false]], \"label\": \"Exports\", \"method\": \"restyle\"}, {\"args\": [\"visible\", [false, false, false, true]], \"label\": \"Per Capita Availability\", \"method\": \"restyle\"}]}]}, {\"showLink\": true, \"linkText\": \"Export to plot.ly\"})});</script>"
      ]
     },
     "metadata": {},
     "output_type": "display_data"
    }
   ],
   "source": [
    "###########################################################################################\n",
    "# https://plot.ly/~notebook_demo/85/new-to-plotly-plotlys-python-library-i/\n",
    "###########################################################################################\n",
    "import plotly.plotly as py\n",
    "from plotly.graph_objs import *\n",
    "plotly.offline.init_notebook_mode(connected=True)\n",
    "\n",
    "years = total_fresh_df.iloc[0:]['Year']\n",
    "prod = total_fresh_df.iloc[0:]['Production']\n",
    "imprt = total_fresh_df.iloc[0:]['Imports']\n",
    "perCap = total_fresh_df.iloc[0:]['Per_Capita_Availability']\n",
    "exports = total_fresh_df.iloc[0:]['Exports']\n",
    "\n",
    "trace1 = Scatter(\n",
    "    x=years, y=prod,\n",
    "    line=Line(\n",
    "        color='#FFD700',\n",
    "        width=3\n",
    "    ),\n",
    "    name='Production'\n",
    ")\n",
    "\n",
    "trace2 = Scatter(\n",
    "    x=years, y=imprt,\n",
    "    line=Line(\n",
    "        color='#D0312D',\n",
    "        width=3\n",
    "    ),\n",
    "    name='Imports'\n",
    ")\n",
    "\n",
    "trace3 = Scatter(\n",
    "    x=years, y=exports,\n",
    "    line=Line(\n",
    "        color='#0E4C92',\n",
    "        width=3\n",
    "    ),\n",
    "    name='Exports'\n",
    ")\n",
    "\n",
    "trace4 = Scatter(\n",
    "    x=years, y=perCap,\n",
    "    line=Line(\n",
    "        color='#000000',\n",
    "        width=3\n",
    "    ),\n",
    "    name='Per Capita Availability'\n",
    ")\n",
    "\n",
    "data = Data([trace1, trace2, trace3, trace4])\n",
    "layout = Layout(\n",
    "    title='U.S. fresh market vegetables supply utilization',\n",
    "    updatemenus=list([\n",
    "        dict(\n",
    "            x=-0.05,\n",
    "            y=1,\n",
    "            yanchor='top',\n",
    "            buttons=list([\n",
    "                dict(\n",
    "                    args=['visible', [True, True, True, True]],\n",
    "                    label='All',\n",
    "                    method='restyle'\n",
    "                ),\n",
    "                dict(\n",
    "                    args=['visible', [True, False, False, False]],\n",
    "                    label='Production',\n",
    "                    method='restyle'\n",
    "                ),\n",
    "                dict(\n",
    "                    args=['visible', [False, True, False, False]],\n",
    "                    label='Imports',\n",
    "                    method='restyle'\n",
    "                ),\n",
    "                dict(\n",
    "                    args=['visible', [False, False, True, False]],\n",
    "                    label='Exports',\n",
    "                    method='restyle'\n",
    "                ),\n",
    "                dict(\n",
    "                    args=['visible', [False, False, False, True]],\n",
    "                    label='Per Capita Availability',\n",
    "                    method='restyle'\n",
    "                )\n",
    "            ]),\n",
    "        )\n",
    "    ]),\n",
    ")\n",
    "fig = Figure(data=data, layout=layout)\n",
    "iplot(fig)"
   ]
  },
  {
   "cell_type": "markdown",
   "metadata": {},
   "source": [
    "The overall fresh market vegetable supply for USA is shown in above plot. The exports for the vegetables has not been changed much but import has increased significantly since 1995 to 2017. Although, the production has seen a decline since 2007, the increase in import has compensated the per capita availibility of the vegetables.\n",
    "\n",
    "The default view of the plot shows production, imports, exports and Per Capita Availibility values. By selecting a Dropdown value, specific value of the supply can be seen."
   ]
  },
  {
   "cell_type": "markdown",
   "metadata": {},
   "source": [
    "<a id='4.8'></a>\n",
    "#### 4.8 Plot the Production vs Import of Cucumber from 1970 to 2017"
   ]
  },
  {
   "cell_type": "code",
   "execution_count": 125,
   "metadata": {},
   "outputs": [
    {
     "data": {
      "text/html": [
       "<script>requirejs.config({paths: { 'plotly': ['https://cdn.plot.ly/plotly-latest.min']},});if(!window.Plotly) {{require(['plotly'],function(plotly) {window.Plotly=plotly;});}}</script>"
      ],
      "text/vnd.plotly.v1+html": [
       "<script>requirejs.config({paths: { 'plotly': ['https://cdn.plot.ly/plotly-latest.min']},});if(!window.Plotly) {{require(['plotly'],function(plotly) {window.Plotly=plotly;});}}</script>"
      ]
     },
     "metadata": {},
     "output_type": "display_data"
    },
    {
     "data": {
      "application/vnd.plotly.v1+json": {
       "data": [
        {
         "name": "Production",
         "type": "scatter",
         "x": [
          1971,
          1972,
          1973,
          1974,
          1975,
          1976,
          1977,
          1978,
          1979,
          1980,
          1981,
          1982,
          1983,
          1984,
          1985,
          1986,
          1987,
          1988,
          1989,
          1990,
          1991,
          1992,
          1993,
          1994,
          1995,
          1996,
          1997,
          1998,
          1999,
          2000,
          2001,
          2002,
          2003,
          2004,
          2005,
          2006,
          2007,
          2008,
          2009,
          2010,
          2011,
          2012,
          2013,
          2014,
          2015,
          2016,
          2017
         ],
         "y": [
          432.6,
          470.2,
          420.6,
          467.6,
          496.9,
          510.9,
          564.7,
          593.1,
          592.1,
          614.3,
          603.7,
          722.2,
          728.6,
          766.1,
          723.2,
          745.7,
          813.3,
          834.9,
          805.2,
          857.6,
          854.1,
          915.6,
          933.5,
          941.5,
          1000.2,
          983.6,
          1157.1,
          1119.7,
          1182.6,
          1087.3,
          1039.2,
          1093.9,
          938.1,
          1000.5,
          926.5,
          907.9,
          970,
          884.3,
          935.9,
          835.1,
          719.4,
          818.2,
          760.3,
          689.5,
          672.5,
          759.26,
          531.93
         ]
        },
        {
         "name": "Imports",
         "type": "scatter",
         "x": [
          1971,
          1972,
          1973,
          1974,
          1975,
          1976,
          1977,
          1978,
          1979,
          1980,
          1981,
          1982,
          1983,
          1984,
          1985,
          1986,
          1987,
          1988,
          1989,
          1990,
          1991,
          1992,
          1993,
          1994,
          1995,
          1996,
          1997,
          1998,
          1999,
          2000,
          2001,
          2002,
          2003,
          2004,
          2005,
          2006,
          2007,
          2008,
          2009,
          2010,
          2011,
          2012,
          2013,
          2014,
          2015,
          2016,
          2017
         ],
         "y": [
          157.4,
          169.5,
          177.6,
          182.2,
          131.1,
          213.9,
          251,
          305,
          320,
          316.2,
          374.6,
          304.6,
          390.6,
          388.3,
          380.5,
          429.1,
          476,
          428.6,
          452.8,
          394.56809,
          382.91007,
          432.45056,
          502.26218,
          549.11656,
          572.04415,
          686.30357,
          667.54784,
          723.30166,
          749.6368,
          763.36128,
          811.49787,
          868.70806,
          900.25868,
          933.393601,
          955.050818,
          974.324214,
          1012.206457,
          1097.944996,
          1188.841086,
          1290.9698384142998,
          1309.9848909439604,
          1453.8278272922803,
          1587.7749497805803,
          1710.81954734592,
          1785.4852735852005,
          1924.8675052842402,
          1943.9500853245002
         ]
        }
       ],
       "layout": {
        "showlegend": true,
        "title": "Production vs Import of Cucumber from 1970 to 2017"
       }
      },
      "text/html": [
       "<div id=\"0c10566c-493e-4609-81d9-1060573d9285\" style=\"height: 525px; width: 100%;\" class=\"plotly-graph-div\"></div><script type=\"text/javascript\">require([\"plotly\"], function(Plotly) { window.PLOTLYENV=window.PLOTLYENV || {};window.PLOTLYENV.BASE_URL=\"https://plot.ly\";Plotly.newPlot(\"0c10566c-493e-4609-81d9-1060573d9285\", [{\"type\": \"scatter\", \"x\": [1971, 1972, 1973, 1974, 1975, 1976, 1977, 1978, 1979, 1980, 1981, 1982, 1983, 1984, 1985, 1986, 1987, 1988, 1989, 1990, 1991, 1992, 1993, 1994, 1995, 1996, 1997, 1998, 1999, 2000, 2001, 2002, 2003, 2004, 2005, 2006, 2007, 2008, 2009, 2010, 2011, 2012, 2013, 2014, 2015, 2016, 2017], \"y\": [432.6, 470.2, 420.6, 467.6, 496.9, 510.9, 564.7, 593.1, 592.1, 614.3, 603.7, 722.2, 728.6, 766.1, 723.2, 745.7, 813.3, 834.9, 805.2, 857.6, 854.1, 915.6, 933.5, 941.5, 1000.2, 983.6, 1157.1, 1119.7, 1182.6, 1087.3, 1039.2, 1093.9, 938.1, 1000.5, 926.5, 907.9, 970.0, 884.3, 935.9, 835.1, 719.4, 818.2, 760.3, 689.5, 672.5, 759.26, 531.93], \"name\": \"Production\"}, {\"type\": \"scatter\", \"x\": [1971, 1972, 1973, 1974, 1975, 1976, 1977, 1978, 1979, 1980, 1981, 1982, 1983, 1984, 1985, 1986, 1987, 1988, 1989, 1990, 1991, 1992, 1993, 1994, 1995, 1996, 1997, 1998, 1999, 2000, 2001, 2002, 2003, 2004, 2005, 2006, 2007, 2008, 2009, 2010, 2011, 2012, 2013, 2014, 2015, 2016, 2017], \"y\": [157.4, 169.5, 177.6, 182.2, 131.1, 213.9, 251.0, 305.0, 320.0, 316.2, 374.6, 304.6, 390.6, 388.3, 380.5, 429.1, 476.0, 428.6, 452.8, 394.56809, 382.91007, 432.45056, 502.26218, 549.11656, 572.04415, 686.30357, 667.54784, 723.30166, 749.6368, 763.36128, 811.49787, 868.70806, 900.25868, 933.393601, 955.050818, 974.324214, 1012.206457, 1097.944996, 1188.841086, 1290.9698384142998, 1309.9848909439604, 1453.8278272922803, 1587.7749497805803, 1710.81954734592, 1785.4852735852005, 1924.8675052842402, 1943.9500853245002], \"name\": \"Imports\"}], {\"title\": \"Production vs Import of Cucumber from 1970 to 2017\", \"showlegend\": true}, {\"showLink\": true, \"linkText\": \"Export to plot.ly\"})});</script>"
      ],
      "text/vnd.plotly.v1+html": [
       "<div id=\"0c10566c-493e-4609-81d9-1060573d9285\" style=\"height: 525px; width: 100%;\" class=\"plotly-graph-div\"></div><script type=\"text/javascript\">require([\"plotly\"], function(Plotly) { window.PLOTLYENV=window.PLOTLYENV || {};window.PLOTLYENV.BASE_URL=\"https://plot.ly\";Plotly.newPlot(\"0c10566c-493e-4609-81d9-1060573d9285\", [{\"type\": \"scatter\", \"x\": [1971, 1972, 1973, 1974, 1975, 1976, 1977, 1978, 1979, 1980, 1981, 1982, 1983, 1984, 1985, 1986, 1987, 1988, 1989, 1990, 1991, 1992, 1993, 1994, 1995, 1996, 1997, 1998, 1999, 2000, 2001, 2002, 2003, 2004, 2005, 2006, 2007, 2008, 2009, 2010, 2011, 2012, 2013, 2014, 2015, 2016, 2017], \"y\": [432.6, 470.2, 420.6, 467.6, 496.9, 510.9, 564.7, 593.1, 592.1, 614.3, 603.7, 722.2, 728.6, 766.1, 723.2, 745.7, 813.3, 834.9, 805.2, 857.6, 854.1, 915.6, 933.5, 941.5, 1000.2, 983.6, 1157.1, 1119.7, 1182.6, 1087.3, 1039.2, 1093.9, 938.1, 1000.5, 926.5, 907.9, 970.0, 884.3, 935.9, 835.1, 719.4, 818.2, 760.3, 689.5, 672.5, 759.26, 531.93], \"name\": \"Production\"}, {\"type\": \"scatter\", \"x\": [1971, 1972, 1973, 1974, 1975, 1976, 1977, 1978, 1979, 1980, 1981, 1982, 1983, 1984, 1985, 1986, 1987, 1988, 1989, 1990, 1991, 1992, 1993, 1994, 1995, 1996, 1997, 1998, 1999, 2000, 2001, 2002, 2003, 2004, 2005, 2006, 2007, 2008, 2009, 2010, 2011, 2012, 2013, 2014, 2015, 2016, 2017], \"y\": [157.4, 169.5, 177.6, 182.2, 131.1, 213.9, 251.0, 305.0, 320.0, 316.2, 374.6, 304.6, 390.6, 388.3, 380.5, 429.1, 476.0, 428.6, 452.8, 394.56809, 382.91007, 432.45056, 502.26218, 549.11656, 572.04415, 686.30357, 667.54784, 723.30166, 749.6368, 763.36128, 811.49787, 868.70806, 900.25868, 933.393601, 955.050818, 974.324214, 1012.206457, 1097.944996, 1188.841086, 1290.9698384142998, 1309.9848909439604, 1453.8278272922803, 1587.7749497805803, 1710.81954734592, 1785.4852735852005, 1924.8675052842402, 1943.9500853245002], \"name\": \"Imports\"}], {\"title\": \"Production vs Import of Cucumber from 1970 to 2017\", \"showlegend\": true}, {\"showLink\": true, \"linkText\": \"Export to plot.ly\"})});</script>"
      ]
     },
     "metadata": {},
     "output_type": "display_data"
    }
   ],
   "source": [
    "plotly.offline.init_notebook_mode(connected=True)\n",
    "\n",
    "year_cu = fresh_df.iloc[302:349]['Year'] # Cucumber\n",
    "imprt_cu = fresh_df.iloc[302:349]['Imports'] # Cucumber\n",
    "prod_cu = fresh_df.iloc[302:349]['Production'] # Cucumber\n",
    "\n",
    "plotly.offline.iplot({\n",
    "    \"data\": [Scatter(x=year_cu, y=prod_cu, name='Production'), Scatter(x=year_cu, y=imprt_cu, name='Imports')],\n",
    "    \"layout\": Layout(title=\"Production vs Import of Cucumber from 1970 to 2017\", showlegend=True)\n",
    "    })"
   ]
  },
  {
   "cell_type": "markdown",
   "metadata": {},
   "source": [
    "The Above plot highlights that the over the years the Production of Cucumbers has been declining but the imports has been increasing. Although the import is high, the price of cucumbers has been almost consistent during these years.\n",
    "\n",
    "Mexico has been the largest exporter of cucumbers to USA and being close to USA and its cheap import prices has helped to keep the price low and consistent.\n",
    "\n",
    "source: https://www.canr.msu.edu/cea/uploads/files/US%20Fresh%20Pickling%20Cucumber%20Markets.pdf"
   ]
  },
  {
   "cell_type": "markdown",
   "metadata": {},
   "source": [
    "#### 4.9"
   ]
  },
  {
   "cell_type": "code",
   "execution_count": 126,
   "metadata": {},
   "outputs": [
    {
     "data": {
      "image/png": "[encoded data removed]",
      "text/plain": [
       "<matplotlib.figure.Figure at 0x22d30519d30>"
      ]
     },
     "metadata": {},
     "output_type": "display_data"
    },
    {
     "data": {
      "image/png": "[encoded data removed]",
      "text/plain": [
       "<matplotlib.figure.Figure at 0x22d30795940>"
      ]
     },
     "metadata": {},
     "output_type": "display_data"
    },
    {
     "data": {
      "image/png": "[encoded data removed]",
      "text/plain": [
       "<matplotlib.figure.Figure at 0x22d2dc80320>"
      ]
     },
     "metadata": {},
     "output_type": "display_data"
    },
    {
     "data": {
      "image/png": "[encoded data removed]",
      "text/plain": [
       "<matplotlib.figure.Figure at 0x22d2dffacc0>"
      ]
     },
     "metadata": {},
     "output_type": "display_data"
    },
    {
     "data": {
      "image/png": "[encoded data removed]",
      "text/plain": [
       "<matplotlib.figure.Figure at 0x22d2def43c8>"
      ]
     },
     "metadata": {},
     "output_type": "display_data"
    }
   ],
   "source": [
    "\n",
    "fresh_df.iloc[0:47].plot(y='Constant_2009_Dollars', x= 'Year')\n",
    "# fresh_df.iloc[47:94].plot(y='Constant_2009_Dollars', x= 'Year')\n",
    "fresh_df.iloc[94:141].plot(y='Constant_2009_Dollars', x= 'Year')\n",
    "fresh_df.iloc[141:188].plot(y='Constant_2009_Dollars', x= 'Year')\n",
    "fresh_df.iloc[188:235].plot(y='Constant_2009_Dollars', x= 'Year')\n",
    "fresh_df.iloc[235:282].plot(y='Constant_2009_Dollars', x= 'Year')\n",
    "# fresh_df.iloc[282:302].plot(y='Constant_2009_Dollars', x= 'Year')\n",
    "\n",
    "# tomatoes, kale \n",
    "# tomatoes - prices down, produc down imports up\n",
    "\n",
    "plt.show()"
   ]
  },
  {
   "cell_type": "markdown",
   "metadata": {},
   "source": [
    "<a id='4.10'></a>\n",
    "#### 4.10 Analyze the Market price, production and imports of Tomatoes"
   ]
  },
  {
   "cell_type": "code",
   "execution_count": 127,
   "metadata": {
    "scrolled": false
   },
   "outputs": [
    {
     "data": {
      "image/png": "[encoded data removed]",
      "text/plain": [
       "<matplotlib.figure.Figure at 0x22d303b1160>"
      ]
     },
     "metadata": {},
     "output_type": "display_data"
    },
    {
     "data": {
      "image/png": "[encoded data removed]",
      "text/plain": [
       "<matplotlib.figure.Figure at 0x22d303b1978>"
      ]
     },
     "metadata": {},
     "output_type": "display_data"
    },
    {
     "data": {
      "image/png": "[encoded data removed]",
      "text/plain": [
       "<matplotlib.figure.Figure at 0x22d30dbb4e0>"
      ]
     },
     "metadata": {},
     "output_type": "display_data"
    }
   ],
   "source": [
    "\n",
    "fresh_df.iloc[918:965].plot(y='Constant_2009_Dollars', x= 'Year', label = 'Market Price for tomatoes')\n",
    "fresh_df.iloc[918:965].plot(y='Production', x= 'Year', label = 'Production for tomatoes')\n",
    "fresh_df.iloc[918:965].plot(y='Imports', x= 'Year', label = 'Imports for tomatoes')\n",
    "plt.legend()\n",
    "plt.show()"
   ]
  },
  {
   "cell_type": "markdown",
   "metadata": {},
   "source": [
    "Interesting analysis for market prices for vegetables compared to the 1970s level\n",
    "Tomatoes’ prices going down\n",
    "Why?\n",
    "Increasing imports\n",
    "Impacting production – production also reducing\n"
   ]
  },
  {
   "cell_type": "markdown",
   "metadata": {},
   "source": [
    "<a id='4.11'></a>\n",
    "#### 4.11 Plot the Market prices of vegetables for year"
   ]
  },
  {
   "cell_type": "markdown",
   "metadata": {},
   "source": [
    "#### 4.11.1 Market price for vegetables"
   ]
  },
  {
   "cell_type": "code",
   "execution_count": 128,
   "metadata": {
    "collapsed": true
   },
   "outputs": [],
   "source": [
    "pi_analysis_df = final_df[np.isfinite(final_df['Price_Index'])]\n",
    "\n",
    "pi_by_year = df1.groupby('Year', as_index=False)['Price_Index'].mean() \n",
    "pi_by_year['Year'] = pi_by_year['Year'].astype(int) # convert year to int type\n",
    "# merge fresh_df and pi_by_year on Year column values\n",
    "final_df2 = pd.merge(fresh_df, pi_by_year, on=\"Year\")"
   ]
  },
  {
   "cell_type": "code",
   "execution_count": 129,
   "metadata": {
    "scrolled": true
   },
   "outputs": [
    {
     "data": {
      "image/png": "[encoded data removed]",
      "text/plain": [
       "<matplotlib.figure.Figure at 0x22d2e15b2b0>"
      ]
     },
     "metadata": {},
     "output_type": "display_data"
    }
   ],
   "source": [
    "# final_df[:10]\n",
    "final_df = final_df.replace('            --', 0)\n",
    "final_df = final_df.replace('             --', 0)\n",
    "final_df = final_df.replace('--', 0)\n",
    "# final_df = final_df.fillna(0)\n",
    "# final_df.iloc[:,1:-1].astype(float)\n",
    "\n",
    "pmi_data = final_df2.loc[final_df2['Vegetable'].isin(['artichokes'])]\n",
    "pmi_data2 = final_df2.loc[final_df2['Vegetable'].isin(['asparagus'])]\n",
    "pmi_data3 = final_df2.loc[final_df2['Vegetable'].isin(['kale'])]\n",
    "# pmi_data4 = final_df.loc[final_df['Vegetable'].isin(['mustard greens'])]\n",
    "pmi_data5 = final_df2.loc[final_df2['Vegetable'].isin(['spinach'])]\n",
    "pmi_data6 = final_df2.loc[final_df2['Vegetable'].isin(['potatoes'])] \n",
    "pmi_data7 = final_df2.loc[final_df2['Vegetable'].isin(['celery'])]\n",
    "pmi_data8 = final_df2.loc[final_df2['Vegetable'].isin(['sweet corn'])]\n",
    "pmi_data9 = final_df2.loc[final_df2['Vegetable'].isin(['collard greens'])]\n",
    "pmi_data10 = final_df2.loc[final_df2['Vegetable'].isin(['leaf & romanie lettuce'])]\n",
    "# df.loc[df['B'].isin(['one','three'])]\n",
    "plt.figure(figsize=(20,10))\n",
    "plt.plot(pmi_data['Year'], pmi_data['Constant_2009_Dollars'], label = 'Artichokes')\n",
    "plt.plot(pmi_data2['Year'], pmi_data2['Constant_2009_Dollars'], label = 'Asparagus', linewidth=8, linestyle=\"-.\")\n",
    "plt.plot(pmi_data3['Year'], pmi_data3['Constant_2009_Dollars'], label = 'Kale')\n",
    "# plt.plot(pmi_data4['Year'], pmi_data4['Constant_2009_Dollars'], label = 'Mustard Greens')\n",
    "plt.plot(pmi_data5['Year'], pmi_data5['Constant_2009_Dollars'], label = 'Spinach')\n",
    "plt.plot(pmi_data6['Year'], pmi_data6['Constant_2009_Dollars'], label = 'Potatoes')\n",
    "plt.plot(pmi_data7['Year'], pmi_data7['Constant_2009_Dollars'], label = 'Celery')\n",
    "plt.plot(pmi_data8['Year'], pmi_data8['Constant_2009_Dollars'], label = 'Sweet Corn')\n",
    "plt.plot(pmi_data9['Year'], pmi_data9['Constant_2009_Dollars'], label = 'Collard Greens', linewidth=8, linestyle=\":\")\n",
    "# plt.plot(pmi_data10['Year'], pmi_data10['Constant_2009_Dollars'], label = 'Lettuce')\n",
    "plt.plot(pmi_data2['Year'], pmi_data2['Price_Index'],label = 'Price Index', linewidth=10)\n",
    "plt.legend()\n",
    "plt.xticks(range(2014,2018))\n",
    "plt.xlabel('Year', size = 20)\n",
    "plt.ylabel('Price in $ per cwt', size = 20)\n",
    "plt.legend()\n",
    "plt.show()"
   ]
  },
  {
   "cell_type": "markdown",
   "metadata": {},
   "source": [
    "#### 4.11.2 Deep dive from above plot -Analysis of Asparagus - Why is it consistently costlier\n",
    "Plot Production to import ratio to see how it varies over years"
   ]
  },
  {
   "cell_type": "code",
   "execution_count": 130,
   "metadata": {},
   "outputs": [
    {
     "data": {
      "image/png": "[encoded data removed]",
      "text/plain": [
       "<matplotlib.figure.Figure at 0x22d2dfd5898>"
      ]
     },
     "metadata": {},
     "output_type": "display_data"
    }
   ],
   "source": [
    "# Plot to show the import to Production ratio of Asparagus\n",
    "asp_data = pi_analysis_df[pi_analysis_df['Vegetable'] == 'asparagus']\n",
    "asp_data['Im_Prod_Ratio'] = asp_data['Imports'] / asp_data['Production']\n",
    "asp_data.plot(y = 'Im_Prod_Ratio', x= 'Year', label = \"Import to production ratio for asparagus\")\n",
    "plt.xticks(range(2014,2018), size = 15)\n",
    "plt.yticks(range(11), size = 15)\n",
    "plt.ylabel(\"Import to production ratio\", size = 15)\n",
    "plt.xlabel(\"Year\", size = 15)\n",
    "# plt.ylabel(\"Import to production ratio\")\n",
    "plt.show()"
   ]
  },
  {
   "cell_type": "code",
   "execution_count": 131,
   "metadata": {
    "collapsed": true
   },
   "outputs": [],
   "source": [
    "final_df = final_df[np.isfinite(final_df['Price_Index'])]\n",
    "#final_df.set_printoptions(max_rows=500)\n",
    "# final_df\n",
    "#.isfinite is used to remove all the Nan values"
   ]
  },
  {
   "cell_type": "markdown",
   "metadata": {},
   "source": [
    "<a id='4.12'></a>\n",
    "#### 4.12 Total Imports Per Vegetables"
   ]
  },
  {
   "cell_type": "code",
   "execution_count": 132,
   "metadata": {},
   "outputs": [
    {
     "data": {
      "image/png": "[encoded data removed]",
      "text/plain": [
       "<matplotlib.figure.Figure at 0x22d3096edd8>"
      ]
     },
     "metadata": {},
     "output_type": "display_data"
    }
   ],
   "source": [
    "imports = final_df.groupby('Vegetable')['Imports'].sum() \n",
    "imports.plot.bar(figsize=(20,10))\n",
    "plt.title('Total Imports per vegetable')\n",
    "plt.xticks(rotation=20)\n",
    "plt.ylabel('Imports')\n",
    "plt.show()\n",
    "\n",
    "# Grouping by the vegetable imports\n",
    "# xticks (rotation = 20), rotates the text 20 degrees"
   ]
  },
  {
   "cell_type": "markdown",
   "metadata": {},
   "source": [
    "<a id='4.13'></a>\n",
    "#### 4.13 Plot the Price Index on Total Imports per Vegetable "
   ]
  },
  {
   "cell_type": "code",
   "execution_count": 133,
   "metadata": {},
   "outputs": [
    {
     "data": {
      "image/png": "[encoded data removed]",
      "text/plain": [
       "<matplotlib.figure.Figure at 0x22d310b80b8>"
      ]
     },
     "metadata": {},
     "output_type": "display_data"
    }
   ],
   "source": [
    "price = final_df.groupby('Vegetable')['Current_Dollars'].sum() \n",
    "price.plot.bar(figsize=(20,10))\n",
    "plt.title('Total Imports per vegetable')\n",
    "plt.xticks(rotation=20)\n",
    "plt.ylabel('Price Current Dollars')\n",
    "plt.show()\n",
    "\n",
    "#Grouping by the vegetable imports\n",
    "# xticks (rotation = 20), rotates the text 20 degrees "
   ]
  },
  {
   "cell_type": "markdown",
   "metadata": {},
   "source": [
    "<a id='4.14'></a>\n",
    "##### 4.14 Plot the Price Index of Vegetables when production is greter than Imports"
   ]
  },
  {
   "cell_type": "code",
   "execution_count": 134,
   "metadata": {
    "collapsed": true
   },
   "outputs": [],
   "source": [
    "pd.options.mode.chained_assignment = None\n",
    "#The above statement is used to deal with the below warning\n",
    "#SettingWithCopyWarning: A value is trying to be set on a copy of a slice from a DataFrame.\n",
    "final_df['prod_imp'] = final_df.eval('Production>Imports')\n",
    "#Creating a new dataframe by evaluating if Production>imports\n",
    "#The idea is to display the current dollars for vegetables where the production is greater than the imports"
   ]
  },
  {
   "cell_type": "code",
   "execution_count": 135,
   "metadata": {
    "collapsed": true
   },
   "outputs": [],
   "source": [
    "Product_greater_imports_true = final_df.loc[final_df['prod_imp']== True]"
   ]
  },
  {
   "cell_type": "code",
   "execution_count": 136,
   "metadata": {},
   "outputs": [
    {
     "data": {
      "image/png": "[encoded data removed]",
      "text/plain": [
       "<matplotlib.figure.Figure at 0x22d325a5da0>"
      ]
     },
     "metadata": {},
     "output_type": "display_data"
    }
   ],
   "source": [
    "#Product_greater_imports_true['Price_Index'] \n",
    "pd.options.mode.chained_assignment = None\n",
    "Product_greater_imports_true['Current_Dollars_num'] = pd.to_numeric(Product_greater_imports_true['Current_Dollars'])\n",
    "# using pd.to_numeric to change the type of Current_Dollars from Object to number\n",
    "Product_greater_imports_true_plot = Product_greater_imports_true.groupby(['Vegetable'], as_index = False)['Current_Dollars_num'].mean()\n",
    "# grouping by the vegetable Current_dollars and taking the mean of the data \n",
    "Product_greater_imports_true_plot.plot.bar(figsize=(20,10))\n",
    "Product_greater_imports_true_plot.sort_values('Current_Dollars_num', ascending=True)['Current_Dollars_num'].plot.bar(x=Product_greater_imports_true_plot['Vegetable'], stacked=True)\n",
    "plt.title('Current Dollars for Vegetables where production is greater than imports')\n",
    "plt.xticks(rotation=40)\n",
    "plt.ylabel('Price Current Dollars')\n",
    "plt.show()"
   ]
  },
  {
   "cell_type": "markdown",
   "metadata": {},
   "source": [
    "<a id='4.15'></a>\n",
    "#### 4.15 Plot the Price Index of Vegetables when Protein content is greter than Sugars"
   ]
  },
  {
   "cell_type": "code",
   "execution_count": 137,
   "metadata": {
    "collapsed": true
   },
   "outputs": [],
   "source": [
    "final_df['protein_sugars_ratio'] = final_df['Protein'] / final_df['Sugars']\n",
    "#final_df['protein_sugars_ratio']\n",
    "#The idea is to display the vegetable dataframe where the ratio of protein content is greater than the sugars"
   ]
  },
  {
   "cell_type": "code",
   "execution_count": 138,
   "metadata": {
    "collapsed": true
   },
   "outputs": [],
   "source": [
    "ratio_greater_protein_current = final_df.loc[final_df['protein_sugars_ratio']> 1]\n",
    "#getting the vegeatables whose protein content is greater than sugars"
   ]
  },
  {
   "cell_type": "code",
   "execution_count": 139,
   "metadata": {
    "collapsed": true
   },
   "outputs": [],
   "source": [
    "pd.options.mode.chained_assignment = None\n",
    "ratio_greater_protein_current['Current_Dollars_num'] = pd.to_numeric(ratio_greater_protein_current['Current_Dollars'])\n",
    "# using pd.to_numeric to change the type of Current_Dollars from Object to number"
   ]
  },
  {
   "cell_type": "code",
   "execution_count": 140,
   "metadata": {},
   "outputs": [
    {
     "data": {
      "image/png": "[encoded data removed]",
      "text/plain": [
       "<matplotlib.figure.Figure at 0x22d31e908d0>"
      ]
     },
     "metadata": {},
     "output_type": "display_data"
    }
   ],
   "source": [
    "Price_vegetable_greater_protein = ratio_greater_protein_current.groupby(['Vegetable'])['Current_Dollars_num'].mean()\n",
    "#grouping by the vegetable Current_dollars and taking the mean of the data \n",
    "Price_vegetable_greater_protein.plot.bar(figsize=(20,10))\n",
    "plt.title('Current Dollars for Vegetables where protein content is greater than sugars')\n",
    "plt.xticks(rotation=20)\n",
    "plt.ylabel('Price Current Dollars')\n",
    "plt.show()"
   ]
  },
  {
   "cell_type": "code",
   "execution_count": 141,
   "metadata": {
    "collapsed": true
   },
   "outputs": [],
   "source": [
    "final_df['Current_Dollars_num'] = pd.to_numeric(final_df['Current_Dollars'])\n",
    "#final_df"
   ]
  },
  {
   "cell_type": "code",
   "execution_count": 142,
   "metadata": {
    "collapsed": true
   },
   "outputs": [],
   "source": [
    "pd.options.mode.chained_assignment = None\n",
    "Product_greater_imports_true['Current_Dollars_num'] = pd.to_numeric(Product_greater_imports_true['Current_Dollars'])"
   ]
  },
  {
   "cell_type": "code",
   "execution_count": 143,
   "metadata": {},
   "outputs": [
    {
     "data": {
      "image/png": "[encoded data removed]",
      "text/plain": [
       "<matplotlib.figure.Figure at 0x22d3073f0b8>"
      ]
     },
     "metadata": {},
     "output_type": "display_data"
    }
   ],
   "source": [
    "Product_greater_imports_true_plot = Product_greater_imports_true.groupby(['Vegetable'], as_index = False)['Current_Dollars_num'].mean()\n",
    "#grouping by the vegetable Current_dollars and taking the mean of the data \n",
    "Product_greater_imports_true_plot.plot.bar(figsize=(20,10))\n",
    "Product_greater_imports_true_plot.sort_values('Current_Dollars_num', ascending=True)['Current_Dollars_num'].plot.bar(x=Product_greater_imports_true_plot['Vegetable'], stacked=True)\n",
    "plt.title('Current Dollars for Vegetables where production is greater than imports')\n",
    "plt.xticks(rotation=40)\n",
    "plt.ylabel('Price Current Dollars')\n",
    "plt.show()"
   ]
  },
  {
   "cell_type": "code",
   "execution_count": null,
   "metadata": {
    "collapsed": true
   },
   "outputs": [],
   "source": []
  }
 ],
 "metadata": {
  "kernelspec": {
   "display_name": "Python 3",
   "language": "python",
   "name": "python3"
  },
  "language_info": {
   "codemirror_mode": {
    "name": "ipython",
    "version": 3
   },
   "file_extension": ".py",
   "mimetype": "text/x-python",
   "name": "python",
   "nbconvert_exporter": "python",
   "pygments_lexer": "ipython3",
   "version": "3.6.3"
  }
 },
 "nbformat": 4,
 "nbformat_minor": 2
}
